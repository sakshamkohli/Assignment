{
 "cells": [
  {
   "cell_type": "markdown",
   "id": "f8570f94-bb94-4f65-8f27-97a26eea312d",
   "metadata": {},
   "source": [
    "Q1. What is Web Scraping? Why is it Used? Give three areas where Web Scraping is used to get data."
   ]
  },
  {
   "cell_type": "markdown",
   "id": "13c3f370-a28e-4631-9880-2656f30beb75",
   "metadata": {},
   "source": [
    "Web scraping is a method of extracting multiple instance of a certain type of data from a particular website \n",
    "3 areas: Consumer reviews, product pricing, product rating"
   ]
  },
  {
   "cell_type": "markdown",
   "id": "a8b8e914-79a2-4a23-96b9-41681470ed7e",
   "metadata": {},
   "source": [
    "Q2. What are the different methods used for Web Scraping?"
   ]
  },
  {
   "cell_type": "markdown",
   "id": "30ea5e95-c320-44d5-b4c4-e839c80177a5",
   "metadata": {},
   "source": [
    "Pre-built Web Scrapers, Browser extension or Software Web Scrapers, and Cloud or Local Web Scrapers. "
   ]
  },
  {
   "cell_type": "markdown",
   "id": "f5faa51b-0c36-4975-8e52-820d599fdb17",
   "metadata": {},
   "source": [
    "Q3. What is Beautiful Soup? Why is it used?"
   ]
  },
  {
   "cell_type": "markdown",
   "id": "2f7526fb-30a4-45ae-a5c6-82bf439b22ec",
   "metadata": {},
   "source": [
    "It is a python librarary for parsing html and xml files. It is used to see data mor clearly than orginal compact form of data"
   ]
  },
  {
   "cell_type": "markdown",
   "id": "ff82af56-ee04-47d6-bbde-ec25b12f8545",
   "metadata": {},
   "source": [
    "Q4. Why is flask used in this Web Scraping project?"
   ]
  },
  {
   "cell_type": "markdown",
   "id": "669283e8-6fdd-4f1a-a591-8976e54454c8",
   "metadata": {},
   "source": [
    "Flask is used to make the web scrapper responsive and directing requests to exact functions where they are intended to."
   ]
  },
  {
   "cell_type": "markdown",
   "id": "c2993fc6-2600-450c-a76c-4967974bbd55",
   "metadata": {},
   "source": [
    "Q5. Write the names of AWS services used in this project. Also, explain the use of each service."
   ]
  },
  {
   "cell_type": "markdown",
   "id": "3ec4ca49-d42c-4755-bc96-cf264c9268d2",
   "metadata": {},
   "source": [
    "Code Pipeline to model, visualize, and automate the steps required to release your software."
   ]
  }
 ],
 "metadata": {
  "kernelspec": {
   "display_name": "Python 3 (ipykernel)",
   "language": "python",
   "name": "python3"
  },
  "language_info": {
   "codemirror_mode": {
    "name": "ipython",
    "version": 3
   },
   "file_extension": ".py",
   "mimetype": "text/x-python",
   "name": "python",
   "nbconvert_exporter": "python",
   "pygments_lexer": "ipython3",
   "version": "3.10.8"
  }
 },
 "nbformat": 4,
 "nbformat_minor": 5
}
