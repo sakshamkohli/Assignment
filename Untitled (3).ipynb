{
 "cells": [
  {
   "cell_type": "markdown",
   "id": "4b250425-8f84-44c9-b80f-6d4d0d0e9ccd",
   "metadata": {},
   "source": [
    "Q1. Which function is used to open a file? What are the different modes of opening a file? Explain each mode\n",
    "of file opening."
   ]
  },
  {
   "cell_type": "markdown",
   "id": "f8680a12-ce8d-4017-b63a-d0231794b125",
   "metadata": {},
   "source": [
    "open function is used. "
   ]
  },
  {
   "cell_type": "markdown",
   "id": "7ed56346-8972-4ff5-bc93-488fe27ac3c7",
   "metadata": {},
   "source": [
    "\"r\" is read mode. Used for only viewing or reading the file"
   ]
  },
  {
   "cell_type": "markdown",
   "id": "c6b0ac39-5982-4184-a7ee-3acb9c70ddd8",
   "metadata": {},
   "source": [
    "\"w\" or writing mode which over writes any data if already present in the file"
   ]
  },
  {
   "cell_type": "markdown",
   "id": "10266571-0611-4135-8ef7-0460b5afb6c7",
   "metadata": {},
   "source": [
    "\"a\" or append mode which appends the data at the end of the file"
   ]
  },
  {
   "cell_type": "markdown",
   "id": "379ef519-c2ea-43d6-981a-d3e7bcdb9632",
   "metadata": {},
   "source": [
    "Q2. Why close() function is used? Why is it important to close a file?"
   ]
  },
  {
   "cell_type": "markdown",
   "id": "049a187d-b36a-47dc-9695-a3889dfe4edc",
   "metadata": {},
   "source": [
    "Close function is used to permanently save the edits in an open file. It is important to permanently save the changes and saves computer resources"
   ]
  },
  {
   "cell_type": "markdown",
   "id": "743ae8f9-82fb-4884-98fa-e0ad7b88b2c3",
   "metadata": {},
   "source": [
    "Q3. Write a python program to create a text file. Write ‘I want to become a Data Scientist’ in that file. Then\n",
    "close the file. Open this file and read the content of the file."
   ]
  },
  {
   "cell_type": "code",
   "execution_count": 6,
   "id": "fffe39af-c770-4abf-ab6a-8e954c1108cb",
   "metadata": {},
   "outputs": [],
   "source": [
    "f=open('test11.txt', 'w')"
   ]
  },
  {
   "cell_type": "code",
   "execution_count": 2,
   "id": "0c9d1e70-279c-4f15-b1d9-e3dfbe5c6ed1",
   "metadata": {},
   "outputs": [
    {
     "data": {
      "text/plain": [
       "'/home/jovyan/work'"
      ]
     },
     "execution_count": 2,
     "metadata": {},
     "output_type": "execute_result"
    }
   ],
   "source": [
    "pwd"
   ]
  },
  {
   "cell_type": "code",
   "execution_count": 7,
   "id": "ac0d879f-28be-4a3f-92d4-7d7f1d1ae7b1",
   "metadata": {},
   "outputs": [
    {
     "data": {
      "text/plain": [
       "33"
      ]
     },
     "execution_count": 7,
     "metadata": {},
     "output_type": "execute_result"
    }
   ],
   "source": [
    "f.write(\"I want to become a Data Scientist\")"
   ]
  },
  {
   "cell_type": "code",
   "execution_count": 8,
   "id": "4e9c3513-9df0-42cc-958f-135211372a19",
   "metadata": {},
   "outputs": [],
   "source": [
    "f.close()"
   ]
  },
  {
   "cell_type": "code",
   "execution_count": 22,
   "id": "f325fddf-5bda-4a32-bf53-440100acacbb",
   "metadata": {},
   "outputs": [],
   "source": [
    "k = open('test11.txt', 'r')"
   ]
  },
  {
   "cell_type": "code",
   "execution_count": 24,
   "id": "21164bd4-1d31-403b-9f99-3823d1666d14",
   "metadata": {},
   "outputs": [
    {
     "data": {
      "text/plain": [
       "0"
      ]
     },
     "execution_count": 24,
     "metadata": {},
     "output_type": "execute_result"
    }
   ],
   "source": [
    "k.seek(0)"
   ]
  },
  {
   "cell_type": "code",
   "execution_count": 25,
   "id": "83f46cd8-12ee-4f6d-b85d-131602456505",
   "metadata": {},
   "outputs": [
    {
     "data": {
      "text/plain": [
       "'I want to become a Data Scientist'"
      ]
     },
     "execution_count": 25,
     "metadata": {},
     "output_type": "execute_result"
    }
   ],
   "source": [
    "k.read()"
   ]
  },
  {
   "cell_type": "markdown",
   "id": "f77a78a0-5ebf-4acb-b693-0e748dfa620b",
   "metadata": {},
   "source": [
    "Q4. Explain the following with python code: read(), readline() and readlines()."
   ]
  },
  {
   "cell_type": "markdown",
   "id": "3dbe8111-4960-477f-b365-b487f5e8bf5f",
   "metadata": {},
   "source": [
    "read()  Returns the read bytes in the form of a string.If n is not specified reads the entire file"
   ]
  },
  {
   "cell_type": "markdown",
   "id": "7d39052d-bd05-419e-b30b-2cc674c37d18",
   "metadata": {},
   "source": [
    "readline() returns only 1 line"
   ]
  },
  {
   "cell_type": "markdown",
   "id": "58182332-5f61-40c1-8725-db09d7750b61",
   "metadata": {},
   "source": [
    "readlines() method will return all the lines in a file in the format of a list where each element is a line in the file."
   ]
  },
  {
   "cell_type": "markdown",
   "id": "39860d03-7cde-45e7-87f2-358e9fcfcf87",
   "metadata": {},
   "source": [
    "Q5. Explain why with statement is used with open(). What is the advantage of using with statement and\n",
    "open() together?"
   ]
  },
  {
   "cell_type": "markdown",
   "id": "6a9afc2c-9389-40e0-be5b-82d43000150b",
   "metadata": {},
   "source": [
    "The with statement closes the file for you without you telling it to. This is the advantage too that we do not have to close the file"
   ]
  },
  {
   "cell_type": "markdown",
   "id": "454fcd4a-d293-4583-8efb-d162da82ce3a",
   "metadata": {},
   "source": [
    "Q6. Explain the write() and writelines() functions. Give a suitable example."
   ]
  },
  {
   "cell_type": "markdown",
   "id": "b485f3f8-55d6-4b21-97ac-214df7235d41",
   "metadata": {},
   "source": [
    "Write function is used to write some data into the file.It overwrites any previous data"
   ]
  },
  {
   "cell_type": "markdown",
   "id": "6b14ea33-0dec-4079-ae44-baf77f0ddd65",
   "metadata": {},
   "source": []
  }
 ],
 "metadata": {
  "kernelspec": {
   "display_name": "Python 3 (ipykernel)",
   "language": "python",
   "name": "python3"
  },
  "language_info": {
   "codemirror_mode": {
    "name": "ipython",
    "version": 3
   },
   "file_extension": ".py",
   "mimetype": "text/x-python",
   "name": "python",
   "nbconvert_exporter": "python",
   "pygments_lexer": "ipython3",
   "version": "3.10.8"
  }
 },
 "nbformat": 4,
 "nbformat_minor": 5
}
