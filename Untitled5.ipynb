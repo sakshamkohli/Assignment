{
  "nbformat": 4,
  "nbformat_minor": 0,
  "metadata": {
    "colab": {
      "provenance": []
    },
    "kernelspec": {
      "name": "python3",
      "display_name": "Python 3"
    },
    "language_info": {
      "name": "python"
    }
  },
  "cells": [
    {
      "cell_type": "code",
      "execution_count": 1,
      "metadata": {
        "id": "TL_WYCXOwQrq"
      },
      "outputs": [],
      "source": [
        "import bokeh.io\n",
        "import bokeh.plotting\n",
        "bokeh.io.output_notebook()\n"
      ]
    },
    {
      "cell_type": "code",
      "source": [
        "from bokeh.plotting import figure, output_file, show"
      ],
      "metadata": {
        "id": "r--bOLRry-IX"
      },
      "execution_count": 2,
      "outputs": []
    },
    {
      "cell_type": "markdown",
      "source": [
        "Q1. How can you create a Bokeh plot using Python code?"
      ],
      "metadata": {
        "id": "j3La1jW3zhi_"
      }
    },
    {
      "cell_type": "markdown",
      "source": [
        "using the above steps you can import bokeh into your notebook and start using it plotting vairous graphs"
      ],
      "metadata": {
        "id": "WIALaFAdzkPL"
      }
    },
    {
      "cell_type": "markdown",
      "source": [
        "Q2. What are glyphs in Bokeh, and how can you add them to a Bokeh plot? Explain with an example."
      ],
      "metadata": {
        "id": "fIH3h505zmjj"
      }
    },
    {
      "cell_type": "markdown",
      "source": [
        "In Bokeh, glyphs are the visual elements or shapes used to represent data in a plot. They can be simple geometric shapes such as circles, squares, lines, or more complex shapes like polygons or patches. Glyphs are added to a Bokeh plot to visually display data points, lines, or areas.\n",
        "\n",
        "To add glyphs to a Bokeh plot, you need to follow these steps:\n",
        "from bokeh.plotting import figure, show\n",
        "plot = figure()\n",
        "plot.circle(x, y, size=10, color=\"blue\")\n",
        "plot.line(x, y, line_width=2, color=\"red\")\n"
      ],
      "metadata": {
        "id": "vqyEN_FHzqFm"
      }
    },
    {
      "cell_type": "markdown",
      "source": [
        "Q3. How can you customize the appearance of a Bokeh plot, including the axes, title, and legend?"
      ],
      "metadata": {
        "id": "WyzcTXjz0GHl"
      }
    },
    {
      "cell_type": "markdown",
      "source": [
        "plot.xaxis.axis_label = \"X-axis Label\"\n",
        "plot.yaxis.axis_label = \"Y-axis Label\"\n",
        "\n",
        "\n",
        "plot.title.text = \"Plot Title\"\n",
        "\n",
        "plot.legend.location = \"top_left\"\n",
        "plot.legend.title = \"Legend Title\"\n",
        "\n"
      ],
      "metadata": {
        "id": "Y-f4V74Y0I2H"
      }
    },
    {
      "cell_type": "markdown",
      "source": [
        "Q4. What is a Bokeh server, and how can you use it to create interactive plots that can be updated in\n",
        "real time?"
      ],
      "metadata": {
        "id": "x9vdDuSZ0agg"
      }
    },
    {
      "cell_type": "markdown",
      "source": [
        "\n",
        "The Bokeh server is a key component of the Bokeh library that allows you to create and deploy interactive plots and applications. It enables the creation of interactive visualizations that can be updated in real time"
      ],
      "metadata": {
        "id": "qoWwIeGm0dJg"
      }
    },
    {
      "cell_type": "markdown",
      "source": [
        "Q5. How can you embed a Bokeh plot into a web page or dashboard using Flask or Django?"
      ],
      "metadata": {
        "id": "dJx20ETV0lYz"
      }
    },
    {
      "cell_type": "markdown",
      "source": [
        "Create a Bokeh plot\n",
        "Export the plot to HTML"
      ],
      "metadata": {
        "id": "N809b4Dw0oUj"
      }
    },
    {
      "cell_type": "code",
      "source": [],
      "metadata": {
        "id": "mrfGHxtUzRSm"
      },
      "execution_count": null,
      "outputs": []
    }
  ]
}