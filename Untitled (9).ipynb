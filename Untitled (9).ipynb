{
 "cells": [
  {
   "cell_type": "markdown",
   "id": "5ddb4643-1b90-4998-8de4-ab11c79898e1",
   "metadata": {},
   "source": [
    "Q1. Explain GET and POST methods."
   ]
  },
  {
   "cell_type": "markdown",
   "id": "abf8de14-bced-493f-be25-35cbd9330a1d",
   "metadata": {},
   "source": [
    "GET and POST both the methods are used to fet somme data from a server. The get method is a generalised method that is used for google search etc while post method is more secure and used for websites like gmail.GET method sends the data as URL while POST sends it as body"
   ]
  },
  {
   "cell_type": "raw",
   "id": "b7733b43-e225-443f-bb86-fedfc54c3585",
   "metadata": {},
   "source": [
    "Q2. Why is request used in Flask?"
   ]
  },
  {
   "cell_type": "raw",
   "id": "90eeecad-9048-434b-b42a-c9988b3d0c44",
   "metadata": {},
   "source": [
    "Requests are made to server to get some data from it or to perform a function on certain inputs"
   ]
  },
  {
   "cell_type": "raw",
   "id": "24c765f1-0d56-4175-92ec-882b4b6b2b00",
   "metadata": {},
   "source": [
    "Q3. Why is redirect() used in Flask?"
   ]
  },
  {
   "cell_type": "raw",
   "id": "4d012a73-4e62-4010-868e-f53b768c029f",
   "metadata": {},
   "source": [
    "A redirect is used in the Flask class to send the user to a particular URL with the status code."
   ]
  },
  {
   "cell_type": "raw",
   "id": "442959c8-96ed-464f-b449-54d514ac365d",
   "metadata": {},
   "source": [
    "Q4. What are templates in Flask? Why is the render_template() function used?"
   ]
  },
  {
   "cell_type": "raw",
   "id": "3d7f7d2e-d09a-49be-9487-bfa1aceef4a2",
   "metadata": {},
   "source": [
    "Templates are files that contain static data as well as placeholders for dynamic data. render_template is used to generate output from a template file based on the Jinja2 engine that is found in the application's templates folder."
   ]
  },
  {
   "cell_type": "raw",
   "id": "4af85bd6-9f0c-4b30-99c1-e7cb568be1e9",
   "metadata": {},
   "source": []
  }
 ],
 "metadata": {
  "kernelspec": {
   "display_name": "Python 3 (ipykernel)",
   "language": "python",
   "name": "python3"
  },
  "language_info": {
   "codemirror_mode": {
    "name": "ipython",
    "version": 3
   },
   "file_extension": ".py",
   "mimetype": "text/x-python",
   "name": "python",
   "nbconvert_exporter": "python",
   "pygments_lexer": "ipython3",
   "version": "3.10.8"
  }
 },
 "nbformat": 4,
 "nbformat_minor": 5
}
