{
 "cells": [
  {
   "cell_type": "markdown",
   "id": "179be470-a36a-4945-889b-72e24325a971",
   "metadata": {},
   "source": [
    "Q1. What is data encoding? How is it useful in data science?"
   ]
  },
  {
   "cell_type": "markdown",
   "id": "d037fbd6-4d3b-4828-a0a5-6a53150f3862",
   "metadata": {},
   "source": [
    "Daata encoding is the process to convert categorical features into numerical values.This is neede because algorithm works on numbers and cannot understand strings"
   ]
  },
  {
   "cell_type": "markdown",
   "id": "0be09c86-c6d2-4220-a0a9-ea9438812958",
   "metadata": {},
   "source": [
    "Q2. What is nominal encoding? Provide an example of how you would use it in a real-world scenario."
   ]
  },
  {
   "cell_type": "markdown",
   "id": "e853fdef-01ad-4b24-bd0d-805085b9f3c1",
   "metadata": {},
   "source": [
    "Nominal or one hot encoding is a technique which converts categorical data into binary numbers, 1 where it belongs to and 0 at all other categories.This way it creates a sparse matrix. It is used in small sized data where number of categories are less"
   ]
  },
  {
   "cell_type": "markdown",
   "id": "bb5094fe-e287-44f7-bcc1-cbe6d1fe688e",
   "metadata": {},
   "source": [
    "Q3. In what situations is nominal encoding preferred over one-hot encoding? Provide a practical example."
   ]
  },
  {
   "cell_type": "markdown",
   "id": "e2f102d7-a699-44cc-98fc-51049552e839",
   "metadata": {},
   "source": [
    "When number of featurez are less"
   ]
  },
  {
   "cell_type": "markdown",
   "id": "26e810d4-1230-4785-9dd9-69cc28a71a15",
   "metadata": {},
   "source": [
    "Q4. Suppose you have a dataset containing categorical data with 5 unique values. Which encoding\n",
    "technique would you use to transform this data into a format suitable for machine learning algorithms?\n",
    "Explain why you made this choice."
   ]
  },
  {
   "cell_type": "markdown",
   "id": "fe6e05a5-c5c0-4cae-9d15-72182bf47e25",
   "metadata": {},
   "source": [
    "OneHotEncoding is preffered here as the number of features are not very huge so sparse matrix wont be very huge either"
   ]
  },
  {
   "cell_type": "markdown",
   "id": "9634cc21-ecd6-476c-9e85-4e25df7a2648",
   "metadata": {},
   "source": [
    "Q5. In a machine learning project, you have a dataset with 1000 rows and 5 columns. Two of the columns\n",
    "are categorical, and the remaining three columns are numerical. If you were to use nominal encoding to\n",
    "transform the categorical data, how many new columns would be created? Show your calculations."
   ]
  },
  {
   "cell_type": "markdown",
   "id": "a6d4325f-0729-47ea-b4de-cb06ab7ecc1a",
   "metadata": {},
   "source": [
    "If we assume that every categorical column has 3 categories and we have 2 such columns then 2 new columns would be added for each one of the categorical columns. Hence a total of 4 new columns"
   ]
  },
  {
   "cell_type": "markdown",
   "id": "f2b4d37d-73e5-4626-ae6e-a615ddb91fcc",
   "metadata": {},
   "source": [
    "Q6. You are working with a dataset containing information about different types of animals, including their\n",
    "species, habitat, and diet. Which encoding technique would you use to transform the categorical data into\n",
    "a format suitable for machine learning algorithms? Justify your answer."
   ]
  },
  {
   "cell_type": "code",
   "execution_count": null,
   "id": "da7aaea5-6fd2-4d37-b421-76bc13f6bf25",
   "metadata": {},
   "outputs": [],
   "source": [
    "One hot encoding"
   ]
  }
 ],
 "metadata": {
  "kernelspec": {
   "display_name": "Python 3 (ipykernel)",
   "language": "python",
   "name": "python3"
  },
  "language_info": {
   "codemirror_mode": {
    "name": "ipython",
    "version": 3
   },
   "file_extension": ".py",
   "mimetype": "text/x-python",
   "name": "python",
   "nbconvert_exporter": "python",
   "pygments_lexer": "ipython3",
   "version": "3.10.8"
  }
 },
 "nbformat": 4,
 "nbformat_minor": 5
}
