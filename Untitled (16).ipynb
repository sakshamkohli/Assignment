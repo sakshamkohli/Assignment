{
 "cells": [
  {
   "cell_type": "markdown",
   "id": "c4df3bd9-525a-432f-9258-376a7cca7897",
   "metadata": {},
   "source": [
    "Q1. Explain the difference between simple linear regression and multiple linear regression. Provide an\n",
    "example of each."
   ]
  },
  {
   "cell_type": "markdown",
   "id": "31fcea9b-b4d8-4d31-96c3-ebd8571fe7c6",
   "metadata": {},
   "source": [
    "In Simple linear regression, there is only 1 dependent and 1 independant feature while in multiple LR there are more than 1 dependent features"
   ]
  },
  {
   "cell_type": "markdown",
   "id": "7d8c00a2-ee29-4c78-b335-1925e27df1ea",
   "metadata": {},
   "source": [
    "Q2. Discuss the assumptions of linear regression. How can you check whether these assumptions hold in\n",
    "a given dataset?"
   ]
  },
  {
   "cell_type": "markdown",
   "id": "d424fdd8-25a8-4cfa-ab8c-5f8be9cb7c7e",
   "metadata": {},
   "source": [
    "- All points are independent of each other\n",
    "- Linearity\n",
    "- Normally Distributed\n",
    "- No Multiliniarity"
   ]
  },
  {
   "cell_type": "markdown",
   "id": "5a8e54af-97b0-41db-bfc6-7d5cbe4f6ac8",
   "metadata": {},
   "source": [
    "Q3. How do you interpret the slope and intercept in a linear regression model? Provide an example using\n",
    "a real-world scenario."
   ]
  },
  {
   "cell_type": "markdown",
   "id": "88acee53-4b00-4e20-a7fc-345afaa2210b",
   "metadata": {},
   "source": [
    "- Slope reffers to the unit change in y with respect to x. It is the cofficient of x in the equation.\n",
    "- Intercept is the distance above origin where the line crosses y axis. It is the independent canstant term in the equation."
   ]
  },
  {
   "cell_type": "markdown",
   "id": "707b08f5-d510-4bc2-9141-6fcc5576efd4",
   "metadata": {},
   "source": [
    "Q4. Explain the concept of gradient descent. How is it used in machine learning?"
   ]
  },
  {
   "cell_type": "markdown",
   "id": "7c553ffa-81c4-4a87-8ae7-c2679df977e6",
   "metadata": {},
   "source": [
    "Gradient decent is the approch to get nearer to global minima after several iterations, in every iteration we get 1 step closer. It is used in Ml to get the global minima of error in order to get the best fit line"
   ]
  },
  {
   "cell_type": "markdown",
   "id": "4f8ed2ad-85e8-4d37-bc0a-4a1f8d8992d8",
   "metadata": {},
   "source": [
    "Q5. Describe the multiple linear regression model. How does it differ from simple linear regression?"
   ]
  },
  {
   "cell_type": "markdown",
   "id": "2e6e2604-ce05-4a94-91b2-df6741440e3a",
   "metadata": {},
   "source": [
    "In multi linear regression there are more than 1 independent features that affect the dependent feature"
   ]
  },
  {
   "cell_type": "markdown",
   "id": "162b1d9a-b5cf-4837-b91c-08234d1d9ac7",
   "metadata": {},
   "source": [
    "Q6. Explain the concept of multicollinearity in multiple linear regression. How can you detect and\n",
    "address this issue?"
   ]
  },
  {
   "cell_type": "markdown",
   "id": "c3849528-1697-4883-a137-3efd1317f92e",
   "metadata": {},
   "source": [
    "Multicollinearity occurs when two or more independent variables in a regression model have a strong linear relationship, leading to redundancy in the information they provide. This redundancy makes it difficult for the model to distinguish the individual effects of each independent variable on the dependent variable. It can be detected using Correlation Matrix"
   ]
  },
  {
   "cell_type": "markdown",
   "id": "328944cd-27fe-4102-99aa-80283d23f8f4",
   "metadata": {},
   "source": [
    "Q7. Describe the polynomial regression model. How is it different from linear regression?"
   ]
  },
  {
   "cell_type": "code",
   "execution_count": null,
   "id": "ddc28af6-7739-4f97-9d3a-d69107f61ca3",
   "metadata": {},
   "outputs": [],
   "source": [
    "Polynomial regre"
   ]
  }
 ],
 "metadata": {
  "kernelspec": {
   "display_name": "Python 3 (ipykernel)",
   "language": "python",
   "name": "python3"
  },
  "language_info": {
   "codemirror_mode": {
    "name": "ipython",
    "version": 3
   },
   "file_extension": ".py",
   "mimetype": "text/x-python",
   "name": "python",
   "nbconvert_exporter": "python",
   "pygments_lexer": "ipython3",
   "version": "3.10.8"
  }
 },
 "nbformat": 4,
 "nbformat_minor": 5
}
