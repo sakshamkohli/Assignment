{
 "cells": [
  {
   "cell_type": "raw",
   "id": "d230b48e-8f4c-4194-9662-56083f177e2d",
   "metadata": {},
   "source": [
    "Q1. What is an API? Give an example, where an API is used in real life."
   ]
  },
  {
   "cell_type": "raw",
   "id": "404efdbd-2ab2-4c5d-8d32-898ec7b3f6c2",
   "metadata": {},
   "source": [
    "API stands for Application programming interface. It is a language independent call that is used to get or send information from one machine to a server. Eg. API is used to get data from google servers when we search for a website"
   ]
  },
  {
   "cell_type": "raw",
   "id": "3d8690d3-60db-4180-8016-174af721f1f5",
   "metadata": {},
   "source": [
    "Q2. Give advantages and disadvantages of using API."
   ]
  },
  {
   "cell_type": "raw",
   "id": "912af95d-bc8d-43c2-b787-fbc7faf57a2d",
   "metadata": {},
   "source": [
    "Advantages:\n",
    "1) No computing required on local\n",
    "2) No need to store data on local\n",
    "3) Get only required relevant data\n",
    "Disadvantages:\n",
    "1) API can be complex sometimes\n",
    "2) Compatibility issues"
   ]
  },
  {
   "cell_type": "raw",
   "id": "58b65099-0ef5-4241-9c5a-4b87755e4fe9",
   "metadata": {},
   "source": [
    "Q3. What is a Web API? Differentiate between API and Web API."
   ]
  },
  {
   "cell_type": "raw",
   "id": "462ed818-18f2-4394-8298-9636788ee8ff",
   "metadata": {},
   "source": [
    "An api used by websites on http protocol is web api whereas api used for any application is API"
   ]
  },
  {
   "cell_type": "raw",
   "id": "aec351a8-5773-4392-b979-0ef3bad756a7",
   "metadata": {},
   "source": [
    "Q4. Explain REST and SOAP Architecture. Mention shortcomings of SOAP."
   ]
  },
  {
   "cell_type": "raw",
   "id": "598e714c-b9c8-4d02-b9ba-6465922b91cd",
   "metadata": {},
   "source": [
    "REST is a client server architecture which is easier to implement. It is less secure than SOAP. SOAP also tracks the state of API requests."
   ]
  },
  {
   "cell_type": "raw",
   "id": "284adb55-c403-4724-ade5-95da44eb324a",
   "metadata": {},
   "source": [
    "Q5. Differentiate between REST and SOAP."
   ]
  }
 ],
 "metadata": {
  "kernelspec": {
   "display_name": "Python 3 (ipykernel)",
   "language": "python",
   "name": "python3"
  },
  "language_info": {
   "codemirror_mode": {
    "name": "ipython",
    "version": 3
   },
   "file_extension": ".py",
   "mimetype": "text/x-python",
   "name": "python",
   "nbconvert_exporter": "python",
   "pygments_lexer": "ipython3",
   "version": "3.10.8"
  }
 },
 "nbformat": 4,
 "nbformat_minor": 5
}
