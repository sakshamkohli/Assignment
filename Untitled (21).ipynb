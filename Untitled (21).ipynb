{
 "cells": [
  {
   "cell_type": "markdown",
   "id": "d584671b-d49e-4545-88bb-6cefd60a6da5",
   "metadata": {},
   "source": [
    "Q1. What is an ensemble technique in machine learning?"
   ]
  },
  {
   "cell_type": "markdown",
   "id": "aa095ec3-2b2a-4098-b765-3644fb9d36de",
   "metadata": {},
   "source": [
    "\n",
    "An ensemble technique in machine learning is a method that combines multiple individual models to improve predictive performance and reduce overfitting. "
   ]
  },
  {
   "cell_type": "markdown",
   "id": "afbf9e99-b71e-447a-9476-6f43f73f3544",
   "metadata": {},
   "source": [
    "Q2. Why are ensemble techniques used in machine learning?"
   ]
  },
  {
   "cell_type": "markdown",
   "id": "70b8d224-eddc-4e45-8bdb-db40d3af4f77",
   "metadata": {},
   "source": [
    "To improve accuracy and reduce overfitting"
   ]
  },
  {
   "cell_type": "markdown",
   "id": "c99ffa9f-2ba2-497c-bb0a-92c60c7ae2c7",
   "metadata": {},
   "source": [
    "Q3. What is bagging?"
   ]
  },
  {
   "cell_type": "markdown",
   "id": "b21cb339-d2a8-40c7-9016-213ff842de59",
   "metadata": {},
   "source": [
    "Bagging, short for Bootstrap Aggregating, is an ensemble technique in machine learning where multiple instances of the same model are trained on different subsets of the training data. These models are then aggregated to make a final prediction, reducing overfitting and improving predictive accuracy.\n"
   ]
  },
  {
   "cell_type": "markdown",
   "id": "ee5d3ccc-94c1-41be-acc7-9e35a8475d7f",
   "metadata": {},
   "source": [
    "Q4. What is boosting?"
   ]
  },
  {
   "cell_type": "markdown",
   "id": "89aec9d9-1dd5-4d4c-bb39-03725b79cb19",
   "metadata": {},
   "source": [
    "Boosting is an ensemble technique in machine learning where multiple weak learners (models that perform slightly better than random guessing) are combined to create a strong learner. It works by training models sequentially, with each subsequent model focusing on the errors made by the previous ones. Popular boosting algorithms include AdaBoost (Adaptive Boosting) and Gradient Boosting Machines (GBM), which iteratively improve the model's performance by adjusting the weights of misclassified instances."
   ]
  },
  {
   "cell_type": "markdown",
   "id": "3b711c14-09c6-4a30-bfd3-30323e1d387e",
   "metadata": {},
   "source": [
    "Q5. What are the benefits of using ensemble techniques?"
   ]
  },
  {
   "cell_type": "markdown",
   "id": "4edbb37f-c08c-4895-8971-53408e1e884c",
   "metadata": {},
   "source": [
    "- Improved Accuracy\n",
    "- Reduced Overfitting\n",
    "- Robustnes\n",
    "- Handling Complex Relationships\n",
    "- Model Stability\n",
    "- Versatility"
   ]
  },
  {
   "cell_type": "markdown",
   "id": "126d7fb8-2a39-490b-b399-7f252d54bfea",
   "metadata": {},
   "source": [
    "Q6. Are ensemble techniques always better than individual models?"
   ]
  },
  {
   "cell_type": "markdown",
   "id": "0848a725-ead4-45ff-bc29-7b6a99ad35a3",
   "metadata": {},
   "source": [
    "Reduces bias and prevents overfitting of the model on train data."
   ]
  },
  {
   "cell_type": "markdown",
   "id": "e4d7a671-8259-473a-9e32-5389b989a2f7",
   "metadata": {},
   "source": [
    "Q7. How is the confidence interval calculated using bootstrap?"
   ]
  },
  {
   "cell_type": "markdown",
   "id": "f0bc2265-a5f7-428e-bc76-0be91a313877",
   "metadata": {},
   "source": [
    "To calculate the confidence interval using bootstrap, you first resample the original dataset with replacement multiple times to create bootstrap samples. Then, for each bootstrap sample, compute the statistic of interest (e.g., mean, median, etc.). Finally, calculate the lower and upper bounds of the confidence interval by finding the percentile values of these statistics, typically using the percentile method or the bias-corrected and accelerated (BCa) method for more accurate intervals."
   ]
  },
  {
   "cell_type": "markdown",
   "id": "5607a2dd-4bc3-4857-88b0-2a61dafdea2f",
   "metadata": {},
   "source": [
    "Q8. How does bootstrap work and What are the steps involved in bootstrap?"
   ]
  },
  {
   "cell_type": "markdown",
   "id": "5b99a805-af40-41bc-83e9-b0563970c302",
   "metadata": {},
   "source": [
    "- Sample Creation\n",
    "- Statistic Calculation\n",
    "- Bootstrap Distribution\n",
    "- Confidence Interval Estimation\n",
    "- Analysis and Interpretation"
   ]
  },
  {
   "cell_type": "code",
   "execution_count": null,
   "id": "2ec13da2-b779-484a-a649-fa6d8b1be6ec",
   "metadata": {},
   "outputs": [],
   "source": [
    "Q9. A researcher wants to estimate the mean height of a population of trees. They measure the height of a\n",
    "sample of 50 trees and obtain a mean height of 15 meters and a standard deviation of 2 meters. Use\n",
    "bootstrap to estimate the 95% confidence interval for the population mean height."
   ]
  }
 ],
 "metadata": {
  "kernelspec": {
   "display_name": "Python 3 (ipykernel)",
   "language": "python",
   "name": "python3"
  },
  "language_info": {
   "codemirror_mode": {
    "name": "ipython",
    "version": 3
   },
   "file_extension": ".py",
   "mimetype": "text/x-python",
   "name": "python",
   "nbconvert_exporter": "python",
   "pygments_lexer": "ipython3",
   "version": "3.10.8"
  }
 },
 "nbformat": 4,
 "nbformat_minor": 5
}
