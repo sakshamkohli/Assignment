{
 "cells": [
  {
   "cell_type": "markdown",
   "id": "3328f126-782e-42e2-8440-fb1879ad0f11",
   "metadata": {},
   "source": [
    "Q1. Explain Class and Object with respect to Object-Oriented Programming. Give a suitable example."
   ]
  },
  {
   "cell_type": "markdown",
   "id": "efd6ef3a-f4c9-466a-9905-5657b62d73e6",
   "metadata": {},
   "source": [
    "Classes are a type of blueprint or map for making objects that has its methods and properties. Objects are instance of these classes that have their own certain properties"
   ]
  },
  {
   "cell_type": "markdown",
   "id": "ff698a6c-f0a5-40d6-9976-7cbf57f7aa19",
   "metadata": {},
   "source": [
    "Q2. Name the four pillars of OOPs."
   ]
  },
  {
   "cell_type": "markdown",
   "id": "8bd46fa6-3b61-49fc-ac50-fe5857f2591c",
   "metadata": {},
   "source": [
    "a)Polimorphism\n",
    " b)Encapsulation\n",
    " c)Abstraction\n",
    " d)Inheritance"
   ]
  },
  {
   "cell_type": "markdown",
   "id": "f7728590-2754-4782-9b08-b4968d053646",
   "metadata": {},
   "source": [
    "Q3. Explain why the __init__() function is used. Give a suitable example."
   ]
  },
  {
   "cell_type": "markdown",
   "id": "d258feb8-308b-4007-9a36-a8c3be0267e9",
   "metadata": {},
   "source": [
    "Init function is used for a class. It ensures that the object created of that class has some specific attributes in it. \n",
    "class student\n",
    "    def __init__(self, name,age)\n",
    "        self.name=name\n",
    "        self.age=age"
   ]
  },
  {
   "cell_type": "markdown",
   "id": "706f08f4-73a9-4f67-b9f9-acc0865d10c5",
   "metadata": {},
   "source": [
    "Q4. Why self is used in OOPs?"
   ]
  },
  {
   "cell_type": "markdown",
   "id": "cc8ba83a-2fbe-4d43-8868-5e55c9a3a89c",
   "metadata": {},
   "source": [
    "self is a keyword in oops. It is used to reference a class's attributes to the class function. It is not a reserved keyword and any other word can also be used for the same"
   ]
  },
  {
   "cell_type": "markdown",
   "id": "45a3d2a5-338b-4688-85db-b6bafa3dbc3d",
   "metadata": {},
   "source": [
    "Q5. What is inheritance? Give an example for each type of inheritance."
   ]
  },
  {
   "cell_type": "code",
   "execution_count": null,
   "id": "cb0b5547-56fd-4a16-bbd5-c701dd78e54b",
   "metadata": {},
   "outputs": [],
   "source": [
    "Inheritance is when a class derives some properties and methods from another (Parent) class. there are a few types: a)"
   ]
  }
 ],
 "metadata": {
  "kernelspec": {
   "display_name": "Python 3 (ipykernel)",
   "language": "python",
   "name": "python3"
  },
  "language_info": {
   "codemirror_mode": {
    "name": "ipython",
    "version": 3
   },
   "file_extension": ".py",
   "mimetype": "text/x-python",
   "name": "python",
   "nbconvert_exporter": "python",
   "pygments_lexer": "ipython3",
   "version": "3.10.8"
  }
 },
 "nbformat": 4,
 "nbformat_minor": 5
}
