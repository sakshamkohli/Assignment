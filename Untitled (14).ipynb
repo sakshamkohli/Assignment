{
 "cells": [
  {
   "cell_type": "markdown",
   "id": "5be4a507-c7bb-492b-9c07-eae46898b853",
   "metadata": {},
   "source": [
    "Q1. What is Statistics?"
   ]
  },
  {
   "cell_type": "markdown",
   "id": "ba835e66-2147-4087-93e6-a13fb1e5335d",
   "metadata": {},
   "source": [
    "Statistics is the branch of science which deals withinterpretation and modelling of data."
   ]
  },
  {
   "cell_type": "markdown",
   "id": "73e574fd-fd6b-47e1-8870-782c4a1a883a",
   "metadata": {},
   "source": [
    "Q2. Define the different types of statistics and give an example of when each type might be used."
   ]
  },
  {
   "cell_type": "markdown",
   "id": "2efd9054-ccbf-47f1-9d6d-b61f4c4fd3b1",
   "metadata": {},
   "source": [
    "there are primarily two types: Descriptive and infrential statistics. Descriptive stats is taking out handling, modelling measurements of data while infrential aims at taking out insights from data"
   ]
  },
  {
   "cell_type": "markdown",
   "id": "83f14cd2-c081-4470-bd70-f71154101308",
   "metadata": {},
   "source": [
    "Q3. What are the different types of data and how do they differ from each other? Provide an example of\n",
    "each type of data."
   ]
  },
  {
   "cell_type": "markdown",
   "id": "834f91f8-b131-4af6-88f7-ba33dcba6cec",
   "metadata": {},
   "source": [
    "There are quantitative and qualitative data. Quantitative is further devided into Discrete and Continues data. Qualitative data is also devided into nominal and ordinal data. Discrete data can have discrete values like whole numbers. Eg: Age, while continues can have decimal values also like height. Nominal data is the one in which there are categories but rank doesent matter like gender, while in ordinal data rank does matter like good bad better."
   ]
  },
  {
   "cell_type": "markdown",
   "id": "f5b8b901-e83a-499e-82e3-eca6c0e4bc98",
   "metadata": {},
   "source": [
    "Q4. Categorise the following datasets with respect to quantitative and qualitative data types:\n",
    "(i) Grading in exam: A+, A, B+, B, C+, C, D, E\n",
    "(ii) Colour of mangoes: yellow, green, orange, red\n",
    "(iii) Height data of a class: [178.9, 179, 179.5, 176, 177.2, 178.3, 175.8,...]\n",
    "(iv) Number of mangoes exported by a farm: [500, 600, 478, 672, ...]"
   ]
  },
  {
   "cell_type": "markdown",
   "id": "d312fc11-f52b-48da-8e56-ae3e8df944dc",
   "metadata": {},
   "source": [
    "1)qualitative\n",
    "2)qualitative\n",
    "3)quantitative\n",
    "4)quantitative"
   ]
  },
  {
   "cell_type": "markdown",
   "id": "d2546716-b0b6-45ea-a65f-6b08a12f3e55",
   "metadata": {},
   "source": [
    "Q5. Explain the concept of levels of measurement and give an example of a variable for each level."
   ]
  },
  {
   "cell_type": "markdown",
   "id": "eb399eaf-9190-44a5-adb4-efdae6c5284a",
   "metadata": {},
   "source": [
    "There are 4 levels of measurement.\n",
    "1)Nominal: Order does not matter. Eg: Gender\n",
    "2)Ordinal: Order does matter but the difference cannot be calculate. Eg: Rank1, Rank2, Rank3\n",
    "3)Interval: Order matters and does matter but the ratio between 2 is not meaningful. The data must not start from an absolute 0. Eg: Temperature\n",
    "4)Ratio: Order matters and does matter and the ratio between 2 is meaningful. The data starts from an absolute 0. Eg: Marks"
   ]
  },
  {
   "cell_type": "markdown",
   "id": "ceaeae9d-8e92-4804-82d6-484b2734e45e",
   "metadata": {},
   "source": [
    "Q6. Why is it important to understand the level of measurement when analyzing data? Provide an\n",
    "example to illustrate your answer."
   ]
  },
  {
   "cell_type": "markdown",
   "id": "49631473-2c74-42f3-aaed-4dcb8031747a",
   "metadata": {},
   "source": [
    "If we have the sense of level of measurement of data then only we can produce meaningful outcomes from the data.For example: If we have data about the temperatures, we must have the understanding that here the difference matters but the ratio of 2 temperatures is meaningless."
   ]
  },
  {
   "cell_type": "markdown",
   "id": "8637e5be-3e8a-4e59-8228-2c30e598994f",
   "metadata": {},
   "source": [
    "Q7. How nominal data type is different from ordinal data type."
   ]
  },
  {
   "cell_type": "markdown",
   "id": "25b5fba4-df5e-4459-95ce-1cdf700880ad",
   "metadata": {},
   "source": [
    "In nominal data the order or rankl of the categories do not matter while in ordinal data it does"
   ]
  },
  {
   "cell_type": "markdown",
   "id": "1cdbb847-88d9-42f1-af93-b201a360c74c",
   "metadata": {},
   "source": [
    "Q8. Which type of plot can be used to display data in terms of range?"
   ]
  },
  {
   "cell_type": "markdown",
   "id": "15f3ec48-3a1e-4c7b-a4dc-43336f5c65c3",
   "metadata": {},
   "source": [
    "Histogram"
   ]
  },
  {
   "cell_type": "markdown",
   "id": "aef4a356-1f66-49e7-8028-325214aed2a2",
   "metadata": {},
   "source": [
    "Q9. Describe the difference between descriptive and inferential statistics. Give an example of each\n",
    "type of statistics and explain how they are used."
   ]
  },
  {
   "cell_type": "markdown",
   "id": "71d284d6-956a-490b-b960-973323370f6d",
   "metadata": {},
   "source": [
    "Descriptive statistics focuses on the data parameters, its average median etc, while infrential statistics focuses on taking out meaningful insights from the data.For eg: In a data of students age, inferential takes out data like how many students in the school are above 18 while descriptive takes out the average age of students"
   ]
  },
  {
   "cell_type": "markdown",
   "id": "63a292dc-f53a-41d3-b002-ba3b71c26209",
   "metadata": {},
   "source": [
    "Q10. What are some common measures of central tendency and variability used in statistics? Explain\n",
    "how each measure can be used to describe a dataset."
   ]
  },
  {
   "cell_type": "code",
   "execution_count": null,
   "id": "d25708c8-e404-4e43-845a-46258a4ac3e7",
   "metadata": {},
   "outputs": [],
   "source": [
    "Mean, Median, Mode are some commonly used standard"
   ]
  }
 ],
 "metadata": {
  "kernelspec": {
   "display_name": "Python 3 (ipykernel)",
   "language": "python",
   "name": "python3"
  },
  "language_info": {
   "codemirror_mode": {
    "name": "ipython",
    "version": 3
   },
   "file_extension": ".py",
   "mimetype": "text/x-python",
   "name": "python",
   "nbconvert_exporter": "python",
   "pygments_lexer": "ipython3",
   "version": "3.10.8"
  }
 },
 "nbformat": 4,
 "nbformat_minor": 5
}
