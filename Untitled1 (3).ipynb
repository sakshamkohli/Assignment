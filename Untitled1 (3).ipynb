{
 "cells": [
  {
   "cell_type": "markdown",
   "id": "22dc48df-4c55-4423-847e-4a10fab83dc4",
   "metadata": {},
   "source": [
    "Q1. What is Min-Max scaling, and how is it used in data preprocessing? Provide an example to illustrate its\n",
    "application."
   ]
  },
  {
   "cell_type": "markdown",
   "id": "04d6045b-74c5-4000-afaf-033beaec80dc",
   "metadata": {},
   "source": [
    "Min max scaling is a normalisation technique used to normalise the data which make visulaisation and calculation easy and faster. For eg: MinMax scaled data is visible is a shorter range and hence data visualisation is much easier"
   ]
  },
  {
   "cell_type": "markdown",
   "id": "2913039d-0e22-455b-a9a4-ddfc9f4e5296",
   "metadata": {},
   "source": [
    "Q2. What is the Unit Vector technique in feature scaling, and how does it differ from Min-Max scaling?\n",
    "Provide an example to illustrate its application."
   ]
  },
  {
   "cell_type": "markdown",
   "id": "fd424762-bee3-42f3-b817-9661226ba3a1",
   "metadata": {},
   "source": [
    "unit vector scaling converts the scale of data to 1 and hence all the parameters accordingly. MinMaxScaler scales features to a specified range (usually 0 to 1), while Unit Vector Scaling normalizes each feature vector to a unit vector (magnitude of 1).\n",
    "MinMaxScaler preserves the relationships between data points, while Unit Vector Scaling maintains the direction of the vectors.\n",
    "MinMaxScaler is useful when you want to limit feature ranges and handle outliers, while Unit Vector Scaling is useful when you want to normalize data without changing its direction."
   ]
  },
  {
   "cell_type": "markdown",
   "id": "ab0b9617-8d4e-48e3-8395-4b3809f747ff",
   "metadata": {},
   "source": [
    "Q3. What is PCA (Principle Component Analysis), and how is it used in dimensionality reduction? Provide an\n",
    "example to illustrate its application."
   ]
  },
  {
   "cell_type": "markdown",
   "id": "ef8b336e-81d2-4590-9df3-0a69d69b1afc",
   "metadata": {},
   "source": [
    "PCA is used to convert a 3 dimentional representation to 2-dimentional or 2-d to 1-d while preserving the most of the information. "
   ]
  },
  {
   "cell_type": "markdown",
   "id": "317def28-a7c4-4ce9-addf-d3f34fd0941e",
   "metadata": {},
   "source": [
    "Q4. What is the relationship between PCA and Feature Extraction, and how can PCA be used for Feature\n",
    "Extraction? Provide an example to illustrate this concept."
   ]
  },
  {
   "cell_type": "markdown",
   "id": "40b8534c-2671-441c-ad63-20a8fde7fec7",
   "metadata": {},
   "source": [
    "PCA can be used as a technique for feature extraction. Feature extraction aims to transform the original features of a dataset into a new set of features, often of lower dimensionality, while preserving the most important information from the original data. PCA sis a technique used to achieve this"
   ]
  },
  {
   "cell_type": "markdown",
   "id": "03fafeea-707b-4f98-8817-0d929799e7ab",
   "metadata": {},
   "source": [
    "Q5. You are working on a project to build a recommendation system for a food delivery service. The dataset\n",
    "contains features such as price, rating, and delivery time. Explain how you would use Min-Max scaling to\n",
    "preprocess the data."
   ]
  },
  {
   "cell_type": "markdown",
   "id": "5d051c12-bd3b-4d20-828a-51bccef58f72",
   "metadata": {},
   "source": [
    "MinMax scaler here can be used to bring all the three columns into range of 0 to 1 and hence its processing is easier as well as one can easily visualise the data"
   ]
  },
  {
   "cell_type": "markdown",
   "id": "9f17d222-f23c-4780-a3f6-b21f661f422f",
   "metadata": {},
   "source": [
    "Q6. You are working on a project to build a model to predict stock prices. The dataset contains many\n",
    "features, such as company financial data and market trends. Explain how you would use PCA to reduce the\n",
    "dimensionality of the dataset."
   ]
  },
  {
   "cell_type": "markdown",
   "id": "b6ae4c1e-b383-4618-a11f-32f4155e58c2",
   "metadata": {},
   "source": [
    "PCA here can be used to reduce the dimentionality of data. For eg Feature selection and converging 2 columns etc"
   ]
  },
  {
   "cell_type": "markdown",
   "id": "5b1175b9-6a20-4e7f-804e-646c023b6350",
   "metadata": {},
   "source": [
    "Q7. For a dataset containing the following values: [1, 5, 10, 15, 20], perform Min-Max scaling to transform the\n",
    "values to a range of -1 to 1."
   ]
  },
  {
   "cell_type": "code",
   "execution_count": 5,
   "id": "d04c87c1-dace-4515-86dc-3975b209dd1f",
   "metadata": {},
   "outputs": [
    {
     "data": {
      "text/plain": [
       "array([[0.        ],\n",
       "       [0.21052632],\n",
       "       [0.47368421],\n",
       "       [0.73684211],\n",
       "       [1.        ]])"
      ]
     },
     "execution_count": 5,
     "metadata": {},
     "output_type": "execute_result"
    }
   ],
   "source": [
    "from sklearn.preprocessing import MinMaxScaler\n",
    "import pandas as pd\n",
    "MinMax = MinMaxScaler()\n",
    "l = [1, 5, 10, 15, 20]\n",
    "l = pd.DataFrame(l)\n",
    "# MinMax.fit(l)\n",
    "MinMax.transform(l)"
   ]
  },
  {
   "cell_type": "code",
   "execution_count": null,
   "id": "9c9d2ebe-0468-4a2a-b0de-9e78523c4be6",
   "metadata": {},
   "outputs": [],
   "source": []
  }
 ],
 "metadata": {
  "kernelspec": {
   "display_name": "Python 3 (ipykernel)",
   "language": "python",
   "name": "python3"
  },
  "language_info": {
   "codemirror_mode": {
    "name": "ipython",
    "version": 3
   },
   "file_extension": ".py",
   "mimetype": "text/x-python",
   "name": "python",
   "nbconvert_exporter": "python",
   "pygments_lexer": "ipython3",
   "version": "3.10.8"
  }
 },
 "nbformat": 4,
 "nbformat_minor": 5
}
