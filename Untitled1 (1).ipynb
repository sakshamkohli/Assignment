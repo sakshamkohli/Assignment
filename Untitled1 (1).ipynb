{
 "cells": [
  {
   "cell_type": "markdown",
   "id": "182f7083-cb2b-43c6-b06d-038a649224e6",
   "metadata": {},
   "source": [
    "Q1. What are the three measures of central tendency?"
   ]
  },
  {
   "cell_type": "markdown",
   "id": "0a1a5097-1d7c-4829-828f-6d194598f3da",
   "metadata": {},
   "source": [
    "Mean Median Mode"
   ]
  },
  {
   "cell_type": "markdown",
   "id": "e9e44228-1656-43c2-ad41-a1f2a3534c37",
   "metadata": {},
   "source": [
    "Q2. What is the difference between the mean, median, and mode? How are they used to measure the\n",
    "central tendency of a dataset?"
   ]
  },
  {
   "cell_type": "markdown",
   "id": "d62cace1-ac57-4430-873b-2c1d35e7aba9",
   "metadata": {},
   "source": [
    "Mean is the average, median the central one in sorted list while mode is the one with highest frequency"
   ]
  },
  {
   "cell_type": "markdown",
   "id": "7e9f72c8-e1ad-436c-998d-79da83b790a9",
   "metadata": {},
   "source": [
    "Q3. Measure the three measures of central tendency for the given height data:\n",
    "[178,177,176,177,178.2,178,175,179,180,175,178.9,176.2,177,172.5,178,176.5]"
   ]
  },
  {
   "cell_type": "code",
   "execution_count": 2,
   "id": "5e9846de-f963-483d-a683-894e07751af5",
   "metadata": {},
   "outputs": [],
   "source": [
    "import numpy as np"
   ]
  },
  {
   "cell_type": "code",
   "execution_count": 3,
   "id": "48d981bf-b9f7-4202-9113-8ed21b8d66ec",
   "metadata": {},
   "outputs": [],
   "source": [
    "l = [178,177,176,177,178.2,178,175,179,180,175,178.9,176.2,177,172.5,178,176.5]"
   ]
  },
  {
   "cell_type": "code",
   "execution_count": 4,
   "id": "57521726-997c-44b3-b310-9c7445da8e13",
   "metadata": {},
   "outputs": [
    {
     "data": {
      "text/plain": [
       "177.01875"
      ]
     },
     "execution_count": 4,
     "metadata": {},
     "output_type": "execute_result"
    }
   ],
   "source": [
    "np.mean(l)"
   ]
  },
  {
   "cell_type": "code",
   "execution_count": 5,
   "id": "85e397ed-fe47-44d6-bf02-13cd70f692c0",
   "metadata": {},
   "outputs": [
    {
     "data": {
      "text/plain": [
       "177.0"
      ]
     },
     "execution_count": 5,
     "metadata": {},
     "output_type": "execute_result"
    }
   ],
   "source": [
    "np.median(l)"
   ]
  },
  {
   "cell_type": "code",
   "execution_count": 9,
   "id": "d2ea2f8d-bac5-49ee-b8de-034b5e23dea0",
   "metadata": {},
   "outputs": [
    {
     "data": {
      "text/plain": [
       "178"
      ]
     },
     "execution_count": 9,
     "metadata": {},
     "output_type": "execute_result"
    }
   ],
   "source": [
    "import statistics as stats\n",
    "stats.mode(l)"
   ]
  },
  {
   "cell_type": "markdown",
   "id": "880d6203-03ba-40a4-bfba-a2b73cf34f5d",
   "metadata": {},
   "source": [
    "Q4. Find the standard deviation for the given data:\n",
    "[178,177,176,177,178.2,178,175,179,180,175,178.9,176.2,177,172.5,178,176.5]"
   ]
  },
  {
   "cell_type": "code",
   "execution_count": 10,
   "id": "55f673e6-de31-45c1-988c-1debba292bf6",
   "metadata": {},
   "outputs": [
    {
     "data": {
      "text/plain": [
       "1.7885814036548633"
      ]
     },
     "execution_count": 10,
     "metadata": {},
     "output_type": "execute_result"
    }
   ],
   "source": [
    "l1 = [178,177,176,177,178.2,178,175,179,180,175,178.9,176.2,177,172.5,178,176.5]\n",
    "np.std(l1)"
   ]
  },
  {
   "cell_type": "markdown",
   "id": "aa0e6fd4-b539-4106-bbae-d8f1f39cf0e6",
   "metadata": {},
   "source": [
    "Q5. How are measures of dispersion such as range, variance, and standard deviation used to describe\n",
    "the spread of a dataset? Provide an example."
   ]
  },
  {
   "cell_type": "markdown",
   "id": "fca0008d-f852-4324-9449-864213be1318",
   "metadata": {},
   "source": [
    "the measures of dispersion tells the spread of data. It tells how much the graph is deviated or skewed toward left or right."
   ]
  },
  {
   "cell_type": "markdown",
   "id": "d6aa675b-d34d-4ae9-9b52-0c707fce4c31",
   "metadata": {},
   "source": [
    "Q6. What is a Venn diagram?"
   ]
  },
  {
   "cell_type": "markdown",
   "id": "49542636-172c-4663-97af-588e092e96be",
   "metadata": {},
   "source": [
    "It is adiagram used to show the overlaping relation between two events"
   ]
  },
  {
   "cell_type": "markdown",
   "id": "37fbbf86-861a-403d-bad3-329331fbe3c1",
   "metadata": {},
   "source": [
    "Q7. For the two given sets A = (2,3,4,5,6,7) & B = (0,2,6,8,10). Find:\n",
    "(i) A B\n",
    "(ii) A ⋃ B"
   ]
  },
  {
   "cell_type": "code",
   "execution_count": 17,
   "id": "9d025170-24fa-429f-859f-17ccedf80eae",
   "metadata": {},
   "outputs": [],
   "source": [
    "A = {2,3,4,5,6,7}\n",
    "B = {0,2,6,8,10}"
   ]
  },
  {
   "cell_type": "code",
   "execution_count": 18,
   "id": "2154e05c-3547-4226-8afd-91c56a706e2b",
   "metadata": {},
   "outputs": [],
   "source": [
    "union = A|B\n",
    "intersection = A&B"
   ]
  },
  {
   "cell_type": "code",
   "execution_count": 22,
   "id": "df6cf816-dc69-4da5-89cd-21936960c5dc",
   "metadata": {},
   "outputs": [
    {
     "name": "stdout",
     "output_type": "stream",
     "text": [
      "union: {0, 2, 3, 4, 5, 6, 7, 8, 10}\n",
      "intersection: {2, 6}\n"
     ]
    }
   ],
   "source": [
    "print(\"union:\" ,union)\n",
    "print(\"intersection:\" ,intersection)"
   ]
  },
  {
   "cell_type": "markdown",
   "id": "b31b211e-a858-4c2a-956a-cc81775a465e",
   "metadata": {},
   "source": [
    "Q8. What do you understand about skewness in data?"
   ]
  },
  {
   "cell_type": "markdown",
   "id": "779caeb1-e2b1-49e8-a4d5-08ebd2cb3470",
   "metadata": {},
   "source": [
    "Skewness is the inclination of data toward one side...maybe left or right. It tells the distortion or the asymmetry in data."
   ]
  },
  {
   "cell_type": "markdown",
   "id": "48bfc63d-1536-4c1a-a507-e41cbcf6861b",
   "metadata": {},
   "source": [
    "Q9. If a data is right skewed then what will be the position of median with respect to mean?"
   ]
  },
  {
   "cell_type": "markdown",
   "id": "961ef2f2-71d1-4c5d-9fc0-2ccd9db47738",
   "metadata": {},
   "source": [
    "mode > median > mean"
   ]
  },
  {
   "cell_type": "markdown",
   "id": "f27a15c2-5719-45d9-a38b-04b557c44a98",
   "metadata": {},
   "source": [
    "Q10. Explain the difference between covariance and correlation. How are these measures used in\n",
    "statistical analysis?"
   ]
  },
  {
   "cell_type": "markdown",
   "id": "5eb47341-bdf0-44e2-b3a5-d29ef4ef5289",
   "metadata": {},
   "source": [
    "Both are used to derieve the relation between two entities and how they depend on each other. Covarience is an absolute number while covarience is a number in range [-1,1]"
   ]
  },
  {
   "cell_type": "markdown",
   "id": "0ce5f488-69c5-4df1-b930-16faac356570",
   "metadata": {},
   "source": [
    "Q11. What is the formula for calculating the sample mean? Provide an example calculation for a\n",
    "dataset."
   ]
  },
  {
   "cell_type": "markdown",
   "id": "181cb7e7-7e6a-476f-b0e8-441bb228c9db",
   "metadata": {},
   "source": [
    "Sum (Xi)/N\n",
    "x={1,2,3,4,5}\n",
    "mean = (1+2+3+4+5)/5\n",
    "mean = 3"
   ]
  },
  {
   "cell_type": "markdown",
   "id": "9b09b05e-4dc3-4c6a-bb2e-458d6d962960",
   "metadata": {},
   "source": [
    "Q12. For a normal distribution data what is the relationship between its measure of central tendency?"
   ]
  },
  {
   "cell_type": "markdown",
   "id": "c5668cfd-8e15-4ee1-bea5-9925c7274fce",
   "metadata": {},
   "source": [
    "Mean = Median = Mode"
   ]
  },
  {
   "cell_type": "markdown",
   "id": "eec07249-dff2-4483-9904-5e85974625c2",
   "metadata": {},
   "source": [
    "Q13. How is covariance different from correlation?"
   ]
  },
  {
   "cell_type": "markdown",
   "id": "35465b4a-751b-43aa-b8b3-6b767a895aba",
   "metadata": {},
   "source": [
    "Covarience gives an absolute number while correlation gives a number in the range[-1,1]"
   ]
  },
  {
   "cell_type": "markdown",
   "id": "646508fd-8750-4fb6-a744-30530383d186",
   "metadata": {},
   "source": [
    "Q14. How do outliers affect measures of central tendency and dispersion? Provide an example."
   ]
  },
  {
   "cell_type": "markdown",
   "id": "c892c4c7-d3a3-4025-a6cb-341b17de8c86",
   "metadata": {},
   "source": [
    "Outliers can deviate the measures of central tendency which makes the result unuseful and meaningless\n",
    "x = [1,2,3,4,900]\n"
   ]
  },
  {
   "cell_type": "code",
   "execution_count": 25,
   "id": "bf3e0c3e-c7b0-4311-8065-bcaa68f54e56",
   "metadata": {},
   "outputs": [
    {
     "data": {
      "text/plain": [
       "182.0"
      ]
     },
     "execution_count": 25,
     "metadata": {},
     "output_type": "execute_result"
    }
   ],
   "source": [
    "x = [1,2,3,4,900]\n",
    "np.mean(x)"
   ]
  },
  {
   "cell_type": "markdown",
   "id": "25e092f2-2b3f-4847-8ec9-723d4af12370",
   "metadata": {},
   "source": [
    "this mean is not true representation of the data"
   ]
  },
  {
   "cell_type": "code",
   "execution_count": null,
   "id": "c816ba6c-3902-47b3-885b-a72dcfe9e495",
   "metadata": {},
   "outputs": [],
   "source": []
  }
 ],
 "metadata": {
  "kernelspec": {
   "display_name": "Python 3 (ipykernel)",
   "language": "python",
   "name": "python3"
  },
  "language_info": {
   "codemirror_mode": {
    "name": "ipython",
    "version": 3
   },
   "file_extension": ".py",
   "mimetype": "text/x-python",
   "name": "python",
   "nbconvert_exporter": "python",
   "pygments_lexer": "ipython3",
   "version": "3.10.8"
  }
 },
 "nbformat": 4,
 "nbformat_minor": 5
}
