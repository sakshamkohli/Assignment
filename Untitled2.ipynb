{
 "cells": [
  {
   "cell_type": "markdown",
   "id": "d06b002d-f70f-4a8a-a7d5-ca20b41d2fb1",
   "metadata": {},
   "source": [
    "Q1. Create a Pandas Series that contains the following data: 4, 8, 15, 16, 23, and 42. Then, print the series."
   ]
  },
  {
   "cell_type": "code",
   "execution_count": 1,
   "id": "579cb8c0-8e0f-438e-9ca3-32093d215089",
   "metadata": {},
   "outputs": [
    {
     "data": {
      "text/plain": [
       "0     4\n",
       "1     8\n",
       "2    15\n",
       "3    16\n",
       "4    23\n",
       "5    42\n",
       "dtype: int64"
      ]
     },
     "execution_count": 1,
     "metadata": {},
     "output_type": "execute_result"
    }
   ],
   "source": [
    "import pandas as pd\n",
    "l1 = pd.Series([4, 8, 15, 16, 23, 42])\n",
    "l1"
   ]
  },
  {
   "cell_type": "markdown",
   "id": "cb8bde39-5575-4ec2-9c89-a665d5f1621f",
   "metadata": {},
   "source": [
    "Q2. Create a variable of list type containing 10 elements in it, and apply pandas.Series function on the\n",
    "variable print it."
   ]
  },
  {
   "cell_type": "code",
   "execution_count": 3,
   "id": "7ab38686-1177-48de-bb3a-580bfb7a721f",
   "metadata": {},
   "outputs": [
    {
     "data": {
      "text/plain": [
       "0     1\n",
       "1     2\n",
       "2     3\n",
       "3     4\n",
       "4     5\n",
       "5     6\n",
       "6     7\n",
       "7     8\n",
       "8     9\n",
       "9    10\n",
       "dtype: int64"
      ]
     },
     "execution_count": 3,
     "metadata": {},
     "output_type": "execute_result"
    }
   ],
   "source": [
    "l = [1,2,3,4,5,6,7,8,9,10]\n",
    "l_1 = pd.Series(l)\n",
    "l_1"
   ]
  },
  {
   "cell_type": "markdown",
   "id": "dfaf528f-49d2-4c66-bbe6-948e3c33f766",
   "metadata": {},
   "source": [
    "Q3. Create a Pandas DataFrame that contains the following data:\n",
    "    Name    Age    Gender\n",
    "    Alice   25     Female\n",
    "    Bob     30     Male\n",
    "    Claire  27     Female\n",
    "\n",
    "Then, print the DataFrame."
   ]
  },
  {
   "cell_type": "code",
   "execution_count": 9,
   "id": "d3a0c795-9ba7-445b-a475-417d25d53809",
   "metadata": {},
   "outputs": [
    {
     "data": {
      "text/html": [
       "<div>\n",
       "<style scoped>\n",
       "    .dataframe tbody tr th:only-of-type {\n",
       "        vertical-align: middle;\n",
       "    }\n",
       "\n",
       "    .dataframe tbody tr th {\n",
       "        vertical-align: top;\n",
       "    }\n",
       "\n",
       "    .dataframe thead th {\n",
       "        text-align: right;\n",
       "    }\n",
       "</style>\n",
       "<table border=\"1\" class=\"dataframe\">\n",
       "  <thead>\n",
       "    <tr style=\"text-align: right;\">\n",
       "      <th></th>\n",
       "      <th>Name</th>\n",
       "      <th>Age</th>\n",
       "      <th>Gender</th>\n",
       "    </tr>\n",
       "  </thead>\n",
       "  <tbody>\n",
       "    <tr>\n",
       "      <th>0</th>\n",
       "      <td>Alice</td>\n",
       "      <td>25</td>\n",
       "      <td>Female</td>\n",
       "    </tr>\n",
       "    <tr>\n",
       "      <th>1</th>\n",
       "      <td>Bob</td>\n",
       "      <td>30</td>\n",
       "      <td>Male</td>\n",
       "    </tr>\n",
       "    <tr>\n",
       "      <th>2</th>\n",
       "      <td>Claire</td>\n",
       "      <td>27</td>\n",
       "      <td>Female</td>\n",
       "    </tr>\n",
       "  </tbody>\n",
       "</table>\n",
       "</div>"
      ],
      "text/plain": [
       "     Name  Age  Gender\n",
       "0   Alice   25  Female\n",
       "1     Bob   30    Male\n",
       "2  Claire   27  Female"
      ]
     },
     "execution_count": 9,
     "metadata": {},
     "output_type": "execute_result"
    }
   ],
   "source": [
    "name = ['Alice', 'Bob', 'Claire']\n",
    "age = [25,30,27]\n",
    "gender = ['Female','Male','Female']\n",
    "df = pd.DataFrame({'Name': name,'Age': age,'Gender': gender})\n",
    "df"
   ]
  },
  {
   "cell_type": "markdown",
   "id": "29c79a0c-1727-4ebe-9d78-e7b250e418ad",
   "metadata": {},
   "source": [
    "Q4. What is ‘DataFrame’ in pandas and how is it different from pandas.series? Explain with an example."
   ]
  },
  {
   "cell_type": "markdown",
   "id": "a10d649e-bfe2-47ae-8ddb-bab4a8bee696",
   "metadata": {},
   "source": [
    "A dataframe in pandas is a 2 dimensional array that contains data in tabular form. It is a collection of series or arrays. Series is a 1n dimentional array that contains a list of data. An array of series is called a dataframe."
   ]
  },
  {
   "cell_type": "markdown",
   "id": "e9ae12be-d0f0-414a-9b08-1a99a083151b",
   "metadata": {},
   "source": [
    "Q5. What are some common functions you can use to manipulate data in a Pandas DataFrame? Can\n",
    "you give an example of when you might use one of these functions?"
   ]
  },
  {
   "cell_type": "markdown",
   "id": "a5846475-841d-4714-ae22-46fbe43d193a",
   "metadata": {},
   "source": [
    "Pandas is a versatile python library that deals with data manupulation in datframes and series. Some of the functions are:\n",
    "pd.dropna() to drop where null exists\n",
    "pd.merge() to merge two dataframes\n",
    "pd.join to join two dataframes\n"
   ]
  },
  {
   "cell_type": "markdown",
   "id": "0fed1d21-87dc-452e-8a7d-bd69168ca290",
   "metadata": {},
   "source": [
    "Q6. Which of the following is mutable in nature Series, DataFrame, Panel?"
   ]
  },
  {
   "cell_type": "markdown",
   "id": "2019a8a0-fd16-4cf2-8e0f-9c476605231c",
   "metadata": {},
   "source": [
    "all 3 are mutable"
   ]
  },
  {
   "cell_type": "markdown",
   "id": "ba05135a-2e37-4f69-b67c-403a449fb5fd",
   "metadata": {},
   "source": [
    "Q7. Create a DataFrame using multiple Series. Explain with an example."
   ]
  },
  {
   "cell_type": "code",
   "execution_count": null,
   "id": "19639d96-c451-4276-bb33-7b08992bc742",
   "metadata": {},
   "outputs": [],
   "source": [
    "l1 = pd.Series(['a','b','c','d','e'])\n",
    "l2pd.Series(['aa','bb','cc','dd','ee'])\n",
    "pd.Series(['aaa','bbb','ccc','ddd','eee'])"
   ]
  }
 ],
 "metadata": {
  "kernelspec": {
   "display_name": "Python 3 (ipykernel)",
   "language": "python",
   "name": "python3"
  },
  "language_info": {
   "codemirror_mode": {
    "name": "ipython",
    "version": 3
   },
   "file_extension": ".py",
   "mimetype": "text/x-python",
   "name": "python",
   "nbconvert_exporter": "python",
   "pygments_lexer": "ipython3",
   "version": "3.10.8"
  }
 },
 "nbformat": 4,
 "nbformat_minor": 5
}
