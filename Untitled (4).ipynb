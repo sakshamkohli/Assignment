{
 "cells": [
  {
   "cell_type": "raw",
   "id": "4f9ba84d-a71b-4d94-bf4a-96b8117061b9",
   "metadata": {},
   "source": [
    "Q1. What is a database? Differentiate between SQL and NoSQL databases."
   ]
  },
  {
   "cell_type": "raw",
   "id": "c2508ca4-c394-40b0-b150-88645677800a",
   "metadata": {},
   "source": [
    "A database is essentially a storehouse of all data . A server is called a database that bhas all the data in it. It can be locally hosted or be on cloud."
   ]
  },
  {
   "cell_type": "raw",
   "id": "d35352d9-1b49-4867-8277-7975a0438e85",
   "metadata": {},
   "source": [
    "Q2. What is DDL? Explain why CREATE, DROP, ALTER, and TRUNCATE are used with an example."
   ]
  },
  {
   "cell_type": "raw",
   "id": "b339955d-06c7-47f7-af41-9345901b08b9",
   "metadata": {},
   "source": [
    "DDL is data defination language which is used to define the structure of tables. DDL commands are applied to the table and not on the data inside it."
   ]
  },
  {
   "cell_type": "raw",
   "id": "8fbe6c80-d0c2-4656-8c95-64f0e15088a4",
   "metadata": {},
   "source": [
    "CREATE is used to make a new table"
   ]
  },
  {
   "cell_type": "raw",
   "id": "a822adb1-3473-4db9-9806-ee33a0abbcab",
   "metadata": {},
   "source": [
    "DROP is used to delete a table"
   ]
  },
  {
   "cell_type": "raw",
   "id": "328bd0bc-05df-405e-b568-29902d70abde",
   "metadata": {},
   "source": [
    "ALTER is used to make changes to an existing table, add or remove a column"
   ]
  },
  {
   "cell_type": "raw",
   "id": "03f10aaf-c651-4960-8b9f-9b9fd5cd1b28",
   "metadata": {},
   "source": [
    "TRUNCATE used to remove all of the rows from a table, regardless of whether or not any conditions are met"
   ]
  },
  {
   "cell_type": "markdown",
   "id": "16f1fb8b-2d1f-4745-ac87-fff56c16e0a0",
   "metadata": {},
   "source": [
    "Q3. What is DML? Explain INSERT, UPDATE, and DELETE with an example."
   ]
  },
  {
   "cell_type": "markdown",
   "id": "3340cce4-fb34-433f-925a-93eecf955ea9",
   "metadata": {},
   "source": [
    "DML is data manupulation language.These queries are used to manipulate the data inside a table and not the structure"
   ]
  },
  {
   "cell_type": "markdown",
   "id": "9f332d05-47a9-420a-9dc4-be9cbdac8f8f",
   "metadata": {},
   "source": [
    "INSERT is used to add data to table"
   ]
  },
  {
   "cell_type": "markdown",
   "id": "3bad1849-d6e9-4e72-b834-951340fab35f",
   "metadata": {},
   "source": [
    "UPDATE is used to update an existing data"
   ]
  },
  {
   "cell_type": "markdown",
   "id": "153dec94-1fad-4437-906c-6c6560b479b0",
   "metadata": {},
   "source": [
    "DELETE is used to remove a record"
   ]
  },
  {
   "cell_type": "markdown",
   "id": "e0ea6e1d-2b41-470e-80bd-e6e0c212f2ef",
   "metadata": {},
   "source": [
    "Q4. What is DQL? Explain SELECT with an example."
   ]
  },
  {
   "cell_type": "markdown",
   "id": "12744a7a-1e35-4861-82aa-1ab0676ff493",
   "metadata": {},
   "source": [
    "Data Query Language computer languages that are used to make various queries in information systems and databases."
   ]
  },
  {
   "cell_type": "markdown",
   "id": "866738c5-f199-4e97-9edb-16ebd1e8eb0e",
   "metadata": {},
   "source": [
    "Q5. Explain Primary Key and Foreign Key."
   ]
  },
  {
   "cell_type": "markdown",
   "id": "332f4265-018e-46a1-ae83-0f40e318f9cd",
   "metadata": {},
   "source": [
    "primary key uniqly identifies a record in a table"
   ]
  },
  {
   "cell_type": "markdown",
   "id": "23c0c4dd-5154-4014-bfc9-767fef87b531",
   "metadata": {},
   "source": [
    "forign key is used to reference one table to another"
   ]
  },
  {
   "cell_type": "markdown",
   "id": "8c1f0e68-9184-46f0-acae-015bb6015947",
   "metadata": {},
   "source": [
    "Q6. Write a python code to connect MySQL to python. Explain the cursor() and execute() method."
   ]
  },
  {
   "cell_type": "raw",
   "id": "e3c6612e-59f7-4293-9995-146bc58b1bca",
   "metadata": {},
   "source": [
    "import mysql.connector\n",
    "mydb= mysql.connector.connect(\n",
    "    host=\"localhost\",\n",
    "    user=\"abc\",\n",
    "    password=\"password\"\n",
    ")\n",
    "mydb=mydb.cursor()"
   ]
  },
  {
   "cell_type": "markdown",
   "id": "b5c295c6-0d12-40d4-b262-cb482ac39c0a",
   "metadata": {},
   "source": [
    "cursor is a pointer which executes all commands in sql"
   ]
  },
  {
   "cell_type": "markdown",
   "id": "1973b66c-6134-49d6-9596-b7074e1d88bd",
   "metadata": {},
   "source": [
    "Q7. Give the order of execution of SQL clauses in an SQL query."
   ]
  },
  {
   "cell_type": "raw",
   "id": "9921ed70-9651-47bf-9cb4-6482d45cc13d",
   "metadata": {},
   "source": [
    "FROM\n",
    "WHERE\n",
    "GROUP BY\n",
    "HAVING\n",
    "SELECT\n",
    "ORDER BY"
   ]
  },
  {
   "cell_type": "code",
   "execution_count": null,
   "id": "83b77835-5994-4b5e-9f98-9e95e3b9e411",
   "metadata": {},
   "outputs": [],
   "source": []
  }
 ],
 "metadata": {
  "kernelspec": {
   "display_name": "Python 3 (ipykernel)",
   "language": "python",
   "name": "python3"
  },
  "language_info": {
   "codemirror_mode": {
    "name": "ipython",
    "version": 3
   },
   "file_extension": ".py",
   "mimetype": "text/x-python",
   "name": "python",
   "nbconvert_exporter": "python",
   "pygments_lexer": "ipython3",
   "version": "3.10.8"
  }
 },
 "nbformat": 4,
 "nbformat_minor": 5
}
