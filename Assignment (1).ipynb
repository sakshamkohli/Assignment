{
 "cells": [
  {
   "cell_type": "markdown",
   "id": "33861f27-e659-4500-9c2a-4fef26c5418f",
   "metadata": {},
   "source": [
    "Q1. What is Exception in pthon?Write the difference between Exceptions and syntax errors."
   ]
  },
  {
   "cell_type": "markdown",
   "id": "a4458034-4ce6-4c4e-89b4-beee1a841877",
   "metadata": {},
   "source": [
    "Ans.Exceptions are kind of errors that can be handled and avoided so that the code doesnot break and stop due to it. Exception handling reffers to catching those errors and managing them so as to protect the code from stopping.\n",
    "Syntax errrors occour due to wrong typing of code which the compiler is unable to understand while exceptions are handalable code errors"
   ]
  },
  {
   "cell_type": "markdown",
   "id": "3af16f45-19c0-43e3-bd7a-14b212f9f16e",
   "metadata": {},
   "source": [
    "Q2. What happens when an exception is not handled? Explain with example."
   ]
  },
  {
   "cell_type": "markdown",
   "id": "ea67270b-5ebc-4316-bc26-0182b61c4bb8",
   "metadata": {},
   "source": [
    "When an exception is not handeled the program will crash and stop and exception message will appear in log."
   ]
  },
  {
   "cell_type": "markdown",
   "id": "045c9401-2e00-4fd4-b76e-58c9e36a41bc",
   "metadata": {},
   "source": [
    "Q3. Which Python statements are used to catch and handle exceptions? Explin with example"
   ]
  },
  {
   "cell_type": "markdown",
   "id": "129e7537-db01-4d13-bbe7-ff30ae35b609",
   "metadata": {},
   "source": [
    "There are majorly 4 statements in python for exception handelling:\n",
    "1)Try\n",
    "2)Catch\n",
    "3)Else\n",
    "4)Finally"
   ]
  },
  {
   "cell_type": "markdown",
   "id": "6bed1172-3067-48a6-abd4-589f7ea7d7f2",
   "metadata": {},
   "source": [
    "Q4Explain with example:\n",
    "    a)Try and Else\n",
    "    b)Finally\n",
    "    c)raise"
   ]
  },
  {
   "cell_type": "markdown",
   "id": "3c7405e6-d6a6-41cb-95db-ac4c44f0cf82",
   "metadata": {},
   "source": [
    "a)try{\n",
    "f= open(\"abc.txt\", \"r\")}\n",
    "else{\n",
    "print(\"File opened sucessfully\")}\n"
   ]
  },
  {
   "cell_type": "markdown",
   "id": "60ea6c8e-bab4-4893-880b-001e7f9e9f7d",
   "metadata": {},
   "source": [
    "b)try{\n",
    "f= open(\"abc.txt\", \"r\")}\n",
    "finally{\n",
    "(\"Attempted to open the file in read mode\")}"
   ]
  },
  {
   "cell_type": "markdown",
   "id": "eccf23fd-97ba-46b6-abb5-413467c4902e",
   "metadata": {},
   "source": [
    "c)raise Exception(\"Sorry, no numbers below zero\")"
   ]
  },
  {
   "cell_type": "markdown",
   "id": "b348de44-8c93-45fc-98ea-98db86a041c2",
   "metadata": {},
   "source": [
    "Q5. What are Custom Exceptions in python? Why do we need Custom Exceptions? Explain with example"
   ]
  },
  {
   "cell_type": "markdown",
   "id": "dbf42bb7-efc6-4282-b0ea-aecd0ae84ab0",
   "metadata": {},
   "source": [
    "Custom exceptions are those defined by the programnmer for some specific cases where the exception class does not serve the purpose. For eg : in input of age it cannot be negitive."
   ]
  },
  {
   "cell_type": "markdown",
   "id": "447eb6b8-00d2-4b4c-aebe-1500a272597a",
   "metadata": {},
   "source": [
    "Q6Create custom exception ,class. Use this class to handle exception."
   ]
  },
  {
   "cell_type": "markdown",
   "id": "005d5bb1-914f-4671-a154-1f8f97924d26",
   "metadata": {},
   "source": [
    "# define Python user-defined exceptions\n",
    "class InvalidAgeException(Exception):\n",
    "    \"Raised when the input value is less than 18\"\n",
    "    pass\n",
    "\n",
    "# you need to guess this number\n",
    "number = 18\n",
    "\n",
    "try:\n",
    "    input_num = int(input(\"Enter a number: \"))\n",
    "    if input_num < number:\n",
    "        raise InvalidAgeException\n",
    "    else:\n",
    "        print(\"Eligible to Vote\")\n",
    "        \n",
    "except InvalidAgeException:\n",
    "    print(\"Exception occurred: Invalid Age\")"
   ]
  },
  {
   "cell_type": "code",
   "execution_count": null,
   "id": "a899630b-f1dc-4cb3-981f-5652a2cbde56",
   "metadata": {},
   "outputs": [],
   "source": []
  }
 ],
 "metadata": {
  "kernelspec": {
   "display_name": "Python 3 (ipykernel)",
   "language": "python",
   "name": "python3"
  },
  "language_info": {
   "codemirror_mode": {
    "name": "ipython",
    "version": 3
   },
   "file_extension": ".py",
   "mimetype": "text/x-python",
   "name": "python",
   "nbconvert_exporter": "python",
   "pygments_lexer": "ipython3",
   "version": "3.10.8"
  }
 },
 "nbformat": 4,
 "nbformat_minor": 5
}
