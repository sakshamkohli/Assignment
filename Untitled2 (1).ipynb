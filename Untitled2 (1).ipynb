{
 "cells": [
  {
   "cell_type": "markdown",
   "id": "95259155-ecf0-4c02-83e2-9c62416a0c0b",
   "metadata": {},
   "source": [
    "Q1: Define overfitting and underfitting in machine learning. What are the consequences of each, and how\n",
    "can they be mitigated?"
   ]
  },
  {
   "cell_type": "markdown",
   "id": "6596bb0f-9004-41b2-8e7f-cb73d2542063",
   "metadata": {},
   "source": [
    "Overfitting is the condition when the training accuracy is high and tghe test accuracy is low while underfitting is the condition when trining accuracy is low as well as test efficiency is low. Both offer less test accuracy which leads to an inaccurate model."
   ]
  },
  {
   "cell_type": "markdown",
   "id": "ba53b427-2d28-4959-be56-24252e17e7dc",
   "metadata": {},
   "source": [
    "Q2: How can we reduce overfitting? Explain in brief."
   ]
  },
  {
   "cell_type": "markdown",
   "id": "b31bfdae-8ea6-47fc-9192-6b99fea96d79",
   "metadata": {},
   "source": [
    "Overfitting can be decreased by making the data set simpler and only including dependent variables, doing feature engineering and increasing the training time."
   ]
  },
  {
   "cell_type": "markdown",
   "id": "218f86b6-2316-472e-894b-b561a3687d81",
   "metadata": {},
   "source": [
    "Q3: Explain underfitting. List scenarios where underfitting can occur in ML."
   ]
  },
  {
   "cell_type": "markdown",
   "id": "c677eaf9-c65b-4bc9-9197-c6559a08e8d4",
   "metadata": {},
   "source": [
    "underfitting is the condition when trining accuracy is low as well as test efficiency is low. Both offer less test accuracy which leads to an inaccurate model.. Underfitting can occour if data is too simple, if data is biased, if datraining time is too low etc."
   ]
  },
  {
   "cell_type": "markdown",
   "id": "63e1df04-bd9e-4545-a13a-58197d8cfea0",
   "metadata": {},
   "source": [
    "Q4: Explain the bias-variance tradeoff in machine learning. What is the relationship between bias and variance, and how do they affect model performance?"
   ]
  },
  {
   "cell_type": "markdown",
   "id": "afdeedd3-5be9-4fa8-8973-b9bcf4eb4cf1",
   "metadata": {},
   "source": [
    "The bias-variance tradeoff is a fundamental concept in machine learning that relates to the relationship between bias and variance and their impact on the performance of a model. Bias refers to the error introduced by approximating a real-world problem with a simplified model. Variance represents the variability or sensitivity of a model's predictions to changes in the training data."
   ]
  },
  {
   "cell_type": "markdown",
   "id": "6bab754c-21ff-40bf-a610-dc9f78a5d71f",
   "metadata": {},
   "source": [
    "Q5: Discuss some common methods for detecting overfitting and underfitting in machine learning models.\n",
    "How can you determine whether your model is overfitting or underfitting?"
   ]
  },
  {
   "cell_type": "markdown",
   "id": "2f5ea124-1053-42db-93d7-5a432f6e6f61",
   "metadata": {},
   "source": [
    "Train and test comparison, test validation, validation curves etc."
   ]
  },
  {
   "cell_type": "markdown",
   "id": "91073ecb-0a10-4b73-b306-fef0a85688bb",
   "metadata": {},
   "source": [
    "Q6: Compare and contrast bias and variance in machine learning. What are some examples of high bias\n",
    "and high variance models, and how do they differ in terms of their performance?"
   ]
  },
  {
   "cell_type": "markdown",
   "id": "a5e65451-60ac-4cb7-a0fe-6cca32f983af",
   "metadata": {},
   "source": [
    "The bias-variance tradeoff is a fundamental concept in machine learning that relates to the relationship between bias and variance and their impact on the performance of a model. Bias refers to the error introduced by approximating a real-world problem with a simplified model. Variance represents the variability or sensitivity of a model's predictions to changes in the training data."
   ]
  },
  {
   "cell_type": "markdown",
   "id": "12d57c0d-369b-46ee-9fb3-0163a5eac28d",
   "metadata": {},
   "source": [
    "Q7: What is regularization in machine learning, and how can it be used to prevent overfitting? Describe\n",
    "some common regularization techniques and how they work."
   ]
  }
 ],
 "metadata": {
  "kernelspec": {
   "display_name": "Python 3 (ipykernel)",
   "language": "python",
   "name": "python3"
  },
  "language_info": {
   "codemirror_mode": {
    "name": "ipython",
    "version": 3
   },
   "file_extension": ".py",
   "mimetype": "text/x-python",
   "name": "python",
   "nbconvert_exporter": "python",
   "pygments_lexer": "ipython3",
   "version": "3.10.8"
  }
 },
 "nbformat": 4,
 "nbformat_minor": 5
}
