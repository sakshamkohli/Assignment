{
 "cells": [
  {
   "cell_type": "markdown",
   "id": "ca9bc814-72e0-49ff-8bfd-232196656d03",
   "metadata": {},
   "source": [
    "Q1- Explain the following with an example\n",
    "a) Artificial Intelligence\n",
    "b) Machine Learning\n",
    "c) Deep Learning"
   ]
  },
  {
   "cell_type": "markdown",
   "id": "fac8fe22-4672-4187-a8cd-c9f7c1fcc4ec",
   "metadata": {},
   "source": [
    "Artificial Intelligence is an encompasing feild which tries to take decisions and perform tasks without human intervention.Eg: Alexa\n",
    "Machine Learning provide statistical to tools to estimate and analyse.Eg: Prediction models\n",
    "Deep Learning is machine mimicing human brain. Eg: Image Recognition"
   ]
  },
  {
   "cell_type": "markdown",
   "id": "6bca2057-9eed-4421-888d-962159ddf016",
   "metadata": {},
   "source": [
    "Q2- What is supervised learning? List some examples of supervised learning."
   ]
  },
  {
   "cell_type": "markdown",
   "id": "e4fb8c50-efc6-442b-8fc2-6c28826c867e",
   "metadata": {},
   "source": [
    "Use of labelled data to train the model. The outputs of the training data are known.Eg: Color recognition model"
   ]
  },
  {
   "cell_type": "markdown",
   "id": "96ba4a7b-e405-4627-ada4-992a2da57604",
   "metadata": {},
   "source": [
    "Q3- What is unsupervised learning? List some examples of unsupervised learning."
   ]
  },
  {
   "cell_type": "markdown",
   "id": "a675270e-a59e-4ac0-9af0-3001ddb1de30",
   "metadata": {},
   "source": [
    "Use of unlabelled data and clustering to train the model.The data is classified into cluster based on the data attributes"
   ]
  },
  {
   "cell_type": "markdown",
   "id": "0f4dbf57-a9ff-448e-a5b7-217f7d28411e",
   "metadata": {},
   "source": [
    "Q4- What is the difference between AI, ML, DL, and DS?"
   ]
  },
  {
   "cell_type": "markdown",
   "id": "905c89eb-a727-40a5-a141-ed43b3b050c0",
   "metadata": {},
   "source": [
    "AI is smart application of machine learning to perform various tasks. ML provides statistical tools and methods for data analysis and processing while Dl is mimicry of human mind to perform tasks. DS is an encompasing field that is used in all the 3 and used for data processing and management"
   ]
  },
  {
   "cell_type": "markdown",
   "id": "5c5093d7-0aca-4067-a57f-94813a20ce04",
   "metadata": {},
   "source": [
    "Q5- What are the main differences between supervised, unsupervised, and semi-supervised learning?"
   ]
  },
  {
   "cell_type": "markdown",
   "id": "7fe35b88-4fcc-42de-8124-10ac69f3c8c1",
   "metadata": {},
   "source": [
    "Supervised: Use of labelled data to train the model. The outputs of the training data are known.Eg: Color recognition model\n",
    "Unsupervised: Use of unlabelled data and clustering to train the model.The data is classified into cluster based on the data attributes\n",
    "Reinforcement: Use of reward and change in enviornment to train the model. Eg: Achild learns to speak that way"
   ]
  },
  {
   "cell_type": "markdown",
   "id": "c85aefb6-dd01-424b-9d91-a2f6d69ba4ec",
   "metadata": {},
   "source": [
    "Q6- What is train, test and validation split? Explain the importance of each term."
   ]
  },
  {
   "cell_type": "markdown",
   "id": "4963a58a-b45a-4eaa-96bf-0f7b3b9c0383",
   "metadata": {},
   "source": [
    "Train data is use initially to prepare and train the model.\n",
    "Validation data is used to tweek the paramenters to further increase the accuracy of the model.\n",
    "Test data is used to test the accuracy of the model."
   ]
  },
  {
   "cell_type": "markdown",
   "id": "b63bb77e-c511-4e68-a177-501db1308104",
   "metadata": {},
   "source": [
    "Q7- How can unsupervised learning be used in anomaly detection?"
   ]
  },
  {
   "cell_type": "markdown",
   "id": "e2f09749-353c-436a-8482-9190d3e9120d",
   "metadata": {},
   "source": [
    "By pattern recognition and clustering"
   ]
  },
  {
   "cell_type": "code",
   "execution_count": null,
   "id": "6abd7535-0adb-414c-8e32-79ccfce5528f",
   "metadata": {},
   "outputs": [],
   "source": [
    "Q8- List down some commonly used supervised learning al*orithms and unsupKrvisKd lKarnin*\n",
    "algorithms."
   ]
  }
 ],
 "metadata": {
  "kernelspec": {
   "display_name": "Python 3 (ipykernel)",
   "language": "python",
   "name": "python3"
  },
  "language_info": {
   "codemirror_mode": {
    "name": "ipython",
    "version": 3
   },
   "file_extension": ".py",
   "mimetype": "text/x-python",
   "name": "python",
   "nbconvert_exporter": "python",
   "pygments_lexer": "ipython3",
   "version": "3.10.8"
  }
 },
 "nbformat": 4,
 "nbformat_minor": 5
}
