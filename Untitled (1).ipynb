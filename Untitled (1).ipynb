{
 "cells": [
  {
   "cell_type": "markdown",
   "id": "3ec7e600-d399-4436-8058-860ca20fef2b",
   "metadata": {},
   "source": [
    "Q1. What is Abstraction in OOps? Explain with an example."
   ]
  },
  {
   "cell_type": "markdown",
   "id": "8b882068-84d9-4304-bac7-9cd39d93539b",
   "metadata": {},
   "source": [
    "Abstraction reffers to the process of only showing certain important parts of the code to the user and hiding the unimportant parts. This is achieved by using the abstract class. Eg: hiding the implementation of a functions dependency functions and only showing the required ones to the user"
   ]
  },
  {
   "cell_type": "markdown",
   "id": "23f3b536-50a5-47bf-bdf8-9c1631741dbe",
   "metadata": {},
   "source": [
    "Q2. Differentiate between Abstraction and Encapsulation. Explain with an example."
   ]
  },
  {
   "cell_type": "markdown",
   "id": "d551f54f-b0f9-4737-b50d-7f1703c1b0f1",
   "metadata": {},
   "source": [
    "Abstraction reffers to the process of only showing certain important parts of the code to the user and hiding the unimportant parts. This is achieved by using the abstract class while encapsulation is used for data hiding to hide sensitive data like user password or id numbers etc."
   ]
  },
  {
   "cell_type": "markdown",
   "id": "c70a0e51-23b3-4828-9523-dd737b4455e7",
   "metadata": {},
   "source": [
    "Q3. What is abc module in python? Why is it used?"
   ]
  },
  {
   "cell_type": "markdown",
   "id": "14a49cce-918b-4743-881b-78515b314436",
   "metadata": {},
   "source": [
    "A module is nothing but a class which has its methods and properties which can be imported to use in some other function"
   ]
  },
  {
   "cell_type": "markdown",
   "id": "bcae2a72-2fb9-435c-b235-a82810dbdbfd",
   "metadata": {},
   "source": [
    "Q4. How can we achieve data abstraction?"
   ]
  },
  {
   "cell_type": "markdown",
   "id": "4d2eb2b0-5aa9-4af3-bb61-90da26b3acbf",
   "metadata": {},
   "source": [
    "Data abstraction can be achieved by using the abstract keyword instead of the word class"
   ]
  },
  {
   "cell_type": "code",
   "execution_count": null,
   "id": "83663033-cc1a-4d7b-a91f-9b899c098350",
   "metadata": {},
   "outputs": [],
   "source": []
  },
  {
   "cell_type": "markdown",
   "id": "b37b2270-c5ac-4302-abd3-74f163d3b39e",
   "metadata": {},
   "source": []
  }
 ],
 "metadata": {
  "kernelspec": {
   "display_name": "Python 3 (ipykernel)",
   "language": "python",
   "name": "python3"
  },
  "language_info": {
   "codemirror_mode": {
    "name": "ipython",
    "version": 3
   },
   "file_extension": ".py",
   "mimetype": "text/x-python",
   "name": "python",
   "nbconvert_exporter": "python",
   "pygments_lexer": "ipython3",
   "version": "3.10.8"
  }
 },
 "nbformat": 4,
 "nbformat_minor": 5
}
