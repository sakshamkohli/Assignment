{
 "cells": [
  {
   "cell_type": "markdown",
   "id": "37a4f3b7-19fa-48ec-9c08-4454350da627",
   "metadata": {},
   "source": [
    "Q1. What is the Probability density function?"
   ]
  },
  {
   "cell_type": "markdown",
   "id": "44756f94-f0c8-4113-9f7d-471a2b1ff09c",
   "metadata": {},
   "source": [
    "This function is used to show a continues random variable"
   ]
  },
  {
   "cell_type": "markdown",
   "id": "7b143777-a6bf-40c5-b147-72137730f888",
   "metadata": {},
   "source": [
    "Q2. What are the types of Probability distribution?"
   ]
  },
  {
   "cell_type": "markdown",
   "id": "db6e9497-9a97-4532-a525-b6775cc22c3e",
   "metadata": {},
   "source": [
    "Discrete and continues probability distribution"
   ]
  },
  {
   "cell_type": "markdown",
   "id": "72d606a4-fed4-4fae-9abd-5e0b7bfa6305",
   "metadata": {},
   "source": [
    "Q3. Write a Python function to calculate the probability density function of a normal distribution with\n",
    "given mean and standard deviation at a given point."
   ]
  },
  {
   "cell_type": "code",
   "execution_count": 1,
   "id": "c278c132-09b5-4800-a7d3-d81e37b344fa",
   "metadata": {},
   "outputs": [
    {
     "name": "stdout",
     "output_type": "stream",
     "text": [
      "0.0804410163156249\n"
     ]
    }
   ],
   "source": [
    "\n",
    "from scipy.stats import norm\n",
    "import numpy as np\n",
    "  \n",
    "data_start = -5\n",
    "data_end = 5\n",
    "data_points = 11\n",
    "data = np.linspace(data_start, data_end, data_points)\n",
    "  \n",
    "mean = np.mean(data)\n",
    "std = np.std(data)\n",
    "  \n",
    "probability_pdf = norm.pdf(3, loc=mean, scale=std)\n",
    "print(probability_pdf)"
   ]
  },
  {
   "cell_type": "markdown",
   "id": "4b37bbab-1d0c-46ca-9d4c-334809a69d0c",
   "metadata": {},
   "source": [
    "Q4. What are the properties of Binomial distribution? Give two examples of events where binomial\n",
    "distribution can be applied."
   ]
  },
  {
   "cell_type": "markdown",
   "id": "682b5ecd-773d-4c8e-b5d0-33f73fe2364e",
   "metadata": {},
   "source": [
    "It is for discrete random variable.\n",
    "Every experiments outcome is binary\n",
    "The experiment is performed n times"
   ]
  },
  {
   "cell_type": "markdown",
   "id": "eba99eae-b351-4903-9f46-fa0541be8345",
   "metadata": {},
   "source": [
    "Q5. Generate a random sample of size 1000 from a binomial distribution with probability of success 0.4\n",
    "and plot a histogram of the results using matplotlib."
   ]
  },
  {
   "cell_type": "code",
   "execution_count": 5,
   "id": "f63fe0d9-e69f-4110-b533-43ffbc964fea",
   "metadata": {},
   "outputs": [
    {
     "data": {
      "image/png": "[encoded data removed]",
      "text/plain": [
       "<Figure size 640x480 with 1 Axes>"
      ]
     },
     "metadata": {},
     "output_type": "display_data"
    }
   ],
   "source": [
    "import matplotlib.pyplot as plt\n",
    "import numpy as np\n",
    "\n",
    "# Set the parameters\n",
    "n = 1000  # Sample size\n",
    "p = 0.4  # Probability of success\n",
    "\n",
    "# Generate random sample from binomial distribution\n",
    "sample = np.random.binomial(n, p, size=n)\n",
    "\n",
    "# Plot histogram\n",
    "plt.hist(sample)\n",
    "\n",
    "# Set the title and labels\n",
    "plt.title('Binomial Distribution - Sample of Size 1000')\n",
    "plt.xlabel('Number of Successes')\n",
    "plt.ylabel('Frequency')\n",
    "\n",
    "# Show the plot\n",
    "plt.show()"
   ]
  },
  {
   "cell_type": "markdown",
   "id": "d726e987-68cf-4c3c-a4aa-ec5de8217445",
   "metadata": {},
   "source": [
    "Q6. Write a Python function to calculate the cumulative distribution function of a Poisson distribution\n",
    "with given mean at a given point."
   ]
  },
  {
   "cell_type": "markdown",
   "id": "76ab2e4f-64a0-4c0d-b971-1742cd4f50b1",
   "metadata": {},
   "source": [
    "-"
   ]
  },
  {
   "cell_type": "markdown",
   "id": "c4750906-dd04-43da-bda8-ee5368d8cbc3",
   "metadata": {},
   "source": [
    "Q7. How Binomial distribution different from Poisson distribution?"
   ]
  },
  {
   "cell_type": "markdown",
   "id": "b6e91501-6299-458b-9a0a-10ec4f4cede6",
   "metadata": {},
   "source": [
    "Binomial is for when an binary outcome event occours n times while poisson is for the number of events occouring in a given time frame"
   ]
  },
  {
   "cell_type": "markdown",
   "id": "657b9fc2-fb4e-4cdd-9370-7f41d68fb5bb",
   "metadata": {},
   "source": [
    "Q8. Generate a random sample of size 1000 from a Poisson distribution with mean 5 and calculate the\n",
    "sample mean and variance."
   ]
  },
  {
   "cell_type": "code",
   "execution_count": 6,
   "id": "34233646-3344-4a1f-ba6f-2832e8fc90a7",
   "metadata": {},
   "outputs": [
    {
     "name": "stdout",
     "output_type": "stream",
     "text": [
      "Sample Mean: 5.0780\n",
      "Sample Variance: 5.0179\n"
     ]
    }
   ],
   "source": [
    "import numpy as np\n",
    "\n",
    "# Set the parameters\n",
    "mean = 5\n",
    "sample_size = 1000\n",
    "\n",
    "# Generate random sample from Poisson distribution\n",
    "sample = np.random.poisson(mean, size=sample_size)\n",
    "\n",
    "# Calculate sample mean and variance\n",
    "sample_mean = np.mean(sample)\n",
    "sample_variance = np.var(sample)\n",
    "\n",
    "# Print the results\n",
    "print(f\"Sample Mean: {sample_mean:.4f}\")\n",
    "print(f\"Sample Variance: {sample_variance:.4f}\")"
   ]
  },
  {
   "cell_type": "code",
   "execution_count": null,
   "id": "eea32871-30d3-4179-a2c2-5731bdb49dbf",
   "metadata": {},
   "outputs": [],
   "source": [
    "Q9. How mean and variance are related in Binomial distribution and Poisson distribution?"
   ]
  }
 ],
 "metadata": {
  "kernelspec": {
   "display_name": "Python 3 (ipykernel)",
   "language": "python",
   "name": "python3"
  },
  "language_info": {
   "codemirror_mode": {
    "name": "ipython",
    "version": 3
   },
   "file_extension": ".py",
   "mimetype": "text/x-python",
   "name": "python",
   "nbconvert_exporter": "python",
   "pygments_lexer": "ipython3",
   "version": "3.10.8"
  }
 },
 "nbformat": 4,
 "nbformat_minor": 5
}
