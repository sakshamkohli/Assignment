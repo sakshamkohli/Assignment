{
 "cells": [
  {
   "cell_type": "markdown",
   "id": "52164182-20fa-41cb-b89f-0826e1448264",
   "metadata": {},
   "source": [
    "Q1. Create a vehicle class with an init method having instance variables as name_of_vehicle, max_speed\n",
    "and average_of_vehicle."
   ]
  },
  {
   "cell_type": "code",
   "execution_count": 10,
   "id": "26937d16-b99e-40f4-ba7c-105be54fe411",
   "metadata": {},
   "outputs": [],
   "source": [
    "class vehicle:\n",
    "    def __init__ (self,name_of_vehicle,max_speed,average_of_vehicle):\n",
    "        self.name_of_vehicle=name_of_vehicle\n",
    "        self.max_speed=max_speed\n",
    "        self.average_of_vehicle=average_of_vehicle\n",
    "        pass"
   ]
  },
  {
   "cell_type": "markdown",
   "id": "93d9f187-035e-4077-a0cb-036f0777c44a",
   "metadata": {},
   "source": [
    "Q2. Create a child class car from the vehicle class created in Que 1, which will inherit the vehicle class.\n",
    "Create a method named seating_capacity which takes capacity as an argument and returns the name of\n",
    "the vehicle and its seating capacity."
   ]
  },
  {
   "cell_type": "code",
   "execution_count": 11,
   "id": "f77a1277-ddf4-45d4-84e0-6f23b00b3e3c",
   "metadata": {},
   "outputs": [],
   "source": [
    "class car(vehicle):\n",
    "    def __init__ (self,capacity):\n",
    "        self.capacity=capacity\n",
    "        pass \n",
    "    def seating_capacity(self, capacity):\n",
    "        return (name_of_vehicle,capacity)"
   ]
  },
  {
   "cell_type": "markdown",
   "id": "fbb2ad1e-4537-4138-8b9b-4cdbe879dc03",
   "metadata": {},
   "source": [
    "Q3. What is multiple inheritance? Write a python code to demonstrate multiple inheritance."
   ]
  },
  {
   "cell_type": "markdown",
   "id": "4e1ba4c1-14fe-4a2c-91b9-30b61ea1d8aa",
   "metadata": {},
   "source": [
    "Multiple inheritance is when a class derives or inherits features of more than 1 class"
   ]
  },
  {
   "cell_type": "code",
   "execution_count": 12,
   "id": "4d330eb7-1479-4b6b-b616-40d14e190429",
   "metadata": {},
   "outputs": [],
   "source": [
    "class Base1:\n",
    "       pass\n",
    "\n",
    "class Base2:\n",
    "     pass\n",
    "\n",
    "class Derived(Base1, Base2):\n",
    "     pass"
   ]
  },
  {
   "cell_type": "markdown",
   "id": "b93202c2-a3c2-4f97-aa7a-e00d5edadf66",
   "metadata": {},
   "source": [
    "Q4. What are getter and setter in python? Create a class and create a getter and a setter method in this\n",
    "class."
   ]
  },
  {
   "cell_type": "markdown",
   "id": "ec34b7f3-b2d0-4564-8987-980feeb98f10",
   "metadata": {},
   "source": [
    "Getters and setters are functions to access private values in python."
   ]
  },
  {
   "cell_type": "code",
   "execution_count": 16,
   "id": "ae7e434e-fa1c-4ef1-8f9a-070b94080028",
   "metadata": {},
   "outputs": [
    {
     "name": "stdout",
     "output_type": "stream",
     "text": [
      "15\n",
      "21\n"
     ]
    }
   ],
   "source": [
    "class test1:\n",
    "    def __init__(self,age):\n",
    "        self.age=age\n",
    "    def get_age(self):\n",
    "        return self.age\n",
    "    def set_age(self, x):\n",
    "        self._age = x\n",
    "raj = test1(15)\n",
    "raj.set_age(21)\n",
    "print(raj.get_age())\n",
    "print(raj._age)"
   ]
  },
  {
   "cell_type": "markdown",
   "id": "6d223827-f85c-4ece-8fde-52a1636042fc",
   "metadata": {},
   "source": [
    "Q5.What is method overriding in python? Write a python code to demonstrate method overriding."
   ]
  },
  {
   "cell_type": "markdown",
   "id": "c9503b26-2310-46bb-bef3-40b860fe2b19",
   "metadata": {},
   "source": [
    "Method overriding is when we use the same function for more thsan one purposes"
   ]
  },
  {
   "cell_type": "code",
   "execution_count": null,
   "id": "28947da0-a5eb-4f88-89ff-b5cbffdcb9d1",
   "metadata": {},
   "outputs": [],
   "source": [
    "def plusFunc(a,b):\n",
    "    return a+b\n",
    "plus"
   ]
  }
 ],
 "metadata": {
  "kernelspec": {
   "display_name": "Python 3 (ipykernel)",
   "language": "python",
   "name": "python3"
  },
  "language_info": {
   "codemirror_mode": {
    "name": "ipython",
    "version": 3
   },
   "file_extension": ".py",
   "mimetype": "text/x-python",
   "name": "python",
   "nbconvert_exporter": "python",
   "pygments_lexer": "ipython3",
   "version": "3.10.8"
  }
 },
 "nbformat": 4,
 "nbformat_minor": 5
}
